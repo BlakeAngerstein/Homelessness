{
 "cells": [
  {
   "cell_type": "code",
   "execution_count": 1,
   "metadata": {},
   "outputs": [],
   "source": [
    "import pandas as pd\n",
    "import numpy as np"
   ]
  },
  {
   "cell_type": "code",
   "execution_count": 2,
   "metadata": {},
   "outputs": [
    {
     "data": {
      "text/html": [
       "<div>\n",
       "<style scoped>\n",
       "    .dataframe tbody tr th:only-of-type {\n",
       "        vertical-align: middle;\n",
       "    }\n",
       "\n",
       "    .dataframe tbody tr th {\n",
       "        vertical-align: top;\n",
       "    }\n",
       "\n",
       "    .dataframe thead th {\n",
       "        text-align: right;\n",
       "    }\n",
       "</style>\n",
       "<table border=\"1\" class=\"dataframe\">\n",
       "  <thead>\n",
       "    <tr style=\"text-align: right;\">\n",
       "      <th></th>\n",
       "      <th>Year</th>\n",
       "      <th>State</th>\n",
       "      <th>Org Name</th>\n",
       "      <th>Program Name</th>\n",
       "      <th>Award Amount</th>\n",
       "    </tr>\n",
       "  </thead>\n",
       "  <tbody>\n",
       "    <tr>\n",
       "      <th>0</th>\n",
       "      <td>2018</td>\n",
       "      <td>AK</td>\n",
       "      <td>Alaska</td>\n",
       "      <td>CDBG</td>\n",
       "      <td>2958723.0</td>\n",
       "    </tr>\n",
       "    <tr>\n",
       "      <th>1</th>\n",
       "      <td>2018</td>\n",
       "      <td>AK</td>\n",
       "      <td>Alaska</td>\n",
       "      <td>ESG</td>\n",
       "      <td>235176.0</td>\n",
       "    </tr>\n",
       "    <tr>\n",
       "      <th>2</th>\n",
       "      <td>2018</td>\n",
       "      <td>AK</td>\n",
       "      <td>Alaska</td>\n",
       "      <td>HOME</td>\n",
       "      <td>3008138.0</td>\n",
       "    </tr>\n",
       "    <tr>\n",
       "      <th>3</th>\n",
       "      <td>2018</td>\n",
       "      <td>AK</td>\n",
       "      <td>Alaska</td>\n",
       "      <td>HTF</td>\n",
       "      <td>3000000.0</td>\n",
       "    </tr>\n",
       "    <tr>\n",
       "      <th>4</th>\n",
       "      <td>2018</td>\n",
       "      <td>AK</td>\n",
       "      <td>Anchorage, AK</td>\n",
       "      <td>CDBG</td>\n",
       "      <td>1726068.0</td>\n",
       "    </tr>\n",
       "  </tbody>\n",
       "</table>\n",
       "</div>"
      ],
      "text/plain": [
       "   Year State       Org Name Program Name  Award Amount\n",
       "0  2018    AK         Alaska         CDBG     2958723.0\n",
       "1  2018    AK         Alaska          ESG      235176.0\n",
       "2  2018    AK         Alaska         HOME     3008138.0\n",
       "3  2018    AK         Alaska          HTF     3000000.0\n",
       "4  2018    AK  Anchorage, AK         CDBG     1726068.0"
      ]
     },
     "execution_count": 2,
     "metadata": {},
     "output_type": "execute_result"
    }
   ],
   "source": [
    "df = pd.read_csv('resources/data/2007-2018-grant-allocations.csv')\n",
    "df.head()"
   ]
  },
  {
   "cell_type": "code",
   "execution_count": 3,
   "metadata": {},
   "outputs": [
    {
     "name": "stdout",
     "output_type": "stream",
     "text": [
      "<class 'pandas.core.frame.DataFrame'>\n",
      "RangeIndex: 131149 entries, 0 to 131148\n",
      "Data columns (total 5 columns):\n",
      "Year            131149 non-null int64\n",
      "State           131149 non-null object\n",
      "Org Name        78176 non-null object\n",
      "Program Name    131149 non-null object\n",
      "Award Amount    131149 non-null float64\n",
      "dtypes: float64(1), int64(1), object(3)\n",
      "memory usage: 5.0+ MB\n"
     ]
    }
   ],
   "source": [
    "df.info()"
   ]
  },
  {
   "cell_type": "code",
   "execution_count": 4,
   "metadata": {},
   "outputs": [
    {
     "data": {
      "text/plain": [
       "Year               16\n",
       "State              56\n",
       "Org Name         4359\n",
       "Program Name        8\n",
       "Award Amount    83499\n",
       "dtype: int64"
      ]
     },
     "execution_count": 4,
     "metadata": {},
     "output_type": "execute_result"
    }
   ],
   "source": [
    "df.nunique()"
   ]
  },
  {
   "cell_type": "code",
   "execution_count": 32,
   "metadata": {},
   "outputs": [
    {
     "data": {
      "text/plain": [
       "array(['CDBG', 'ESG', 'HOME', 'HTF', 'HOPWA', 'CoC',\n",
       "       'Emergency Shelter Grants Program', 'NSP'], dtype=object)"
      ]
     },
     "execution_count": 32,
     "metadata": {},
     "output_type": "execute_result"
    }
   ],
   "source": [
    "df['Program Name'].unique()"
   ]
  },
  {
   "cell_type": "markdown",
   "metadata": {},
   "source": [
    "## Assess"
   ]
  },
  {
   "cell_type": "markdown",
   "metadata": {},
   "source": [
    "- Org Name is not an important category at this time and can be removed\n",
    "- Year is currently int but is better as string\n",
    "- Data is to be grouped by State, Program, and Year\n",
    "- Column names are capitalizaed and have spaces\n",
    "- There are 56 codes for states, the regions outside of the United States are to be removed"
   ]
  },
  {
   "cell_type": "markdown",
   "metadata": {},
   "source": [
    "## Clean"
   ]
  },
  {
   "cell_type": "code",
   "execution_count": 44,
   "metadata": {},
   "outputs": [],
   "source": [
    "df_clean = df.copy()"
   ]
  },
  {
   "cell_type": "markdown",
   "metadata": {},
   "source": [
    "#### Org Name column not required"
   ]
  },
  {
   "cell_type": "markdown",
   "metadata": {},
   "source": [
    "Remove Org Name column"
   ]
  },
  {
   "cell_type": "code",
   "execution_count": 45,
   "metadata": {},
   "outputs": [
    {
     "data": {
      "text/html": [
       "<div>\n",
       "<style scoped>\n",
       "    .dataframe tbody tr th:only-of-type {\n",
       "        vertical-align: middle;\n",
       "    }\n",
       "\n",
       "    .dataframe tbody tr th {\n",
       "        vertical-align: top;\n",
       "    }\n",
       "\n",
       "    .dataframe thead th {\n",
       "        text-align: right;\n",
       "    }\n",
       "</style>\n",
       "<table border=\"1\" class=\"dataframe\">\n",
       "  <thead>\n",
       "    <tr style=\"text-align: right;\">\n",
       "      <th></th>\n",
       "      <th>Year</th>\n",
       "      <th>State</th>\n",
       "      <th>Program Name</th>\n",
       "      <th>Award Amount</th>\n",
       "    </tr>\n",
       "  </thead>\n",
       "  <tbody>\n",
       "    <tr>\n",
       "      <th>0</th>\n",
       "      <td>2018</td>\n",
       "      <td>AK</td>\n",
       "      <td>CDBG</td>\n",
       "      <td>2958723.0</td>\n",
       "    </tr>\n",
       "    <tr>\n",
       "      <th>1</th>\n",
       "      <td>2018</td>\n",
       "      <td>AK</td>\n",
       "      <td>ESG</td>\n",
       "      <td>235176.0</td>\n",
       "    </tr>\n",
       "    <tr>\n",
       "      <th>2</th>\n",
       "      <td>2018</td>\n",
       "      <td>AK</td>\n",
       "      <td>HOME</td>\n",
       "      <td>3008138.0</td>\n",
       "    </tr>\n",
       "    <tr>\n",
       "      <th>3</th>\n",
       "      <td>2018</td>\n",
       "      <td>AK</td>\n",
       "      <td>HTF</td>\n",
       "      <td>3000000.0</td>\n",
       "    </tr>\n",
       "    <tr>\n",
       "      <th>4</th>\n",
       "      <td>2018</td>\n",
       "      <td>AK</td>\n",
       "      <td>CDBG</td>\n",
       "      <td>1726068.0</td>\n",
       "    </tr>\n",
       "  </tbody>\n",
       "</table>\n",
       "</div>"
      ],
      "text/plain": [
       "   Year State Program Name  Award Amount\n",
       "0  2018    AK         CDBG     2958723.0\n",
       "1  2018    AK          ESG      235176.0\n",
       "2  2018    AK         HOME     3008138.0\n",
       "3  2018    AK          HTF     3000000.0\n",
       "4  2018    AK         CDBG     1726068.0"
      ]
     },
     "execution_count": 45,
     "metadata": {},
     "output_type": "execute_result"
    }
   ],
   "source": [
    "df_clean.drop('Org Name', axis=1, inplace=True)\n",
    "df_clean.head()"
   ]
  },
  {
   "cell_type": "markdown",
   "metadata": {},
   "source": [
    "#### Column names are capitalized with spaces"
   ]
  },
  {
   "cell_type": "markdown",
   "metadata": {},
   "source": [
    "Convert column names to 'year', 'state', 'program', 'amount'"
   ]
  },
  {
   "cell_type": "code",
   "execution_count": 46,
   "metadata": {},
   "outputs": [
    {
     "data": {
      "text/html": [
       "<div>\n",
       "<style scoped>\n",
       "    .dataframe tbody tr th:only-of-type {\n",
       "        vertical-align: middle;\n",
       "    }\n",
       "\n",
       "    .dataframe tbody tr th {\n",
       "        vertical-align: top;\n",
       "    }\n",
       "\n",
       "    .dataframe thead th {\n",
       "        text-align: right;\n",
       "    }\n",
       "</style>\n",
       "<table border=\"1\" class=\"dataframe\">\n",
       "  <thead>\n",
       "    <tr style=\"text-align: right;\">\n",
       "      <th></th>\n",
       "      <th>year</th>\n",
       "      <th>state</th>\n",
       "      <th>program</th>\n",
       "      <th>amount</th>\n",
       "    </tr>\n",
       "  </thead>\n",
       "  <tbody>\n",
       "    <tr>\n",
       "      <th>0</th>\n",
       "      <td>2018</td>\n",
       "      <td>AK</td>\n",
       "      <td>CDBG</td>\n",
       "      <td>2958723.0</td>\n",
       "    </tr>\n",
       "    <tr>\n",
       "      <th>1</th>\n",
       "      <td>2018</td>\n",
       "      <td>AK</td>\n",
       "      <td>ESG</td>\n",
       "      <td>235176.0</td>\n",
       "    </tr>\n",
       "    <tr>\n",
       "      <th>2</th>\n",
       "      <td>2018</td>\n",
       "      <td>AK</td>\n",
       "      <td>HOME</td>\n",
       "      <td>3008138.0</td>\n",
       "    </tr>\n",
       "    <tr>\n",
       "      <th>3</th>\n",
       "      <td>2018</td>\n",
       "      <td>AK</td>\n",
       "      <td>HTF</td>\n",
       "      <td>3000000.0</td>\n",
       "    </tr>\n",
       "    <tr>\n",
       "      <th>4</th>\n",
       "      <td>2018</td>\n",
       "      <td>AK</td>\n",
       "      <td>CDBG</td>\n",
       "      <td>1726068.0</td>\n",
       "    </tr>\n",
       "  </tbody>\n",
       "</table>\n",
       "</div>"
      ],
      "text/plain": [
       "   year state program     amount\n",
       "0  2018    AK    CDBG  2958723.0\n",
       "1  2018    AK     ESG   235176.0\n",
       "2  2018    AK    HOME  3008138.0\n",
       "3  2018    AK     HTF  3000000.0\n",
       "4  2018    AK    CDBG  1726068.0"
      ]
     },
     "execution_count": 46,
     "metadata": {},
     "output_type": "execute_result"
    }
   ],
   "source": [
    "cols = ['year', 'state', 'program', 'amount']\n",
    "df_clean.columns = cols\n",
    "df_clean.head()"
   ]
  },
  {
   "cell_type": "markdown",
   "metadata": {},
   "source": [
    "#### Year as `int`"
   ]
  },
  {
   "cell_type": "markdown",
   "metadata": {},
   "source": [
    "Convert `Year` to `str` with `.astype(str)`"
   ]
  },
  {
   "cell_type": "code",
   "execution_count": 47,
   "metadata": {},
   "outputs": [
    {
     "name": "stdout",
     "output_type": "stream",
     "text": [
      "<class 'pandas.core.frame.DataFrame'>\n",
      "RangeIndex: 131149 entries, 0 to 131148\n",
      "Data columns (total 4 columns):\n",
      "year       131149 non-null object\n",
      "state      131149 non-null object\n",
      "program    131149 non-null object\n",
      "amount     131149 non-null float64\n",
      "dtypes: float64(1), object(3)\n",
      "memory usage: 4.0+ MB\n"
     ]
    }
   ],
   "source": [
    "df_clean.year = df_clean.year.astype(str)\n",
    "df_clean.info()"
   ]
  },
  {
   "cell_type": "markdown",
   "metadata": {},
   "source": [
    "#### Dataset contains additional region codes"
   ]
  },
  {
   "cell_type": "markdown",
   "metadata": {},
   "source": [
    "Import list of US states codes and include with DC using `.isin()`"
   ]
  },
  {
   "cell_type": "code",
   "execution_count": 10,
   "metadata": {},
   "outputs": [
    {
     "data": {
      "text/plain": [
       "array(['AK', 'AL', 'AR', 'AS', 'AZ', 'CA', 'CO', 'CT', 'DC', 'DE', 'FL',\n",
       "       'GA', 'GU', 'HI', 'IA', 'ID', 'IL', 'IN', 'KS', 'KY', 'LA', 'MA',\n",
       "       'MD', 'ME', 'MI', 'MN', 'MO', 'MP', 'MS', 'MT', 'NC', 'ND', 'NE',\n",
       "       'NH', 'NJ', 'NM', 'NV', 'NY', 'OH', 'OK', 'OR', 'PA', 'PR', 'RI',\n",
       "       'SC', 'SD', 'TN', 'TX', 'UT', 'VA', 'VI', 'VT', 'WA', 'WI', 'WV',\n",
       "       'WY'], dtype=object)"
      ]
     },
     "execution_count": 10,
     "metadata": {},
     "output_type": "execute_result"
    }
   ],
   "source": [
    "df_clean.state.unique()"
   ]
  },
  {
   "cell_type": "code",
   "execution_count": 11,
   "metadata": {},
   "outputs": [
    {
     "data": {
      "text/html": [
       "<div>\n",
       "<style scoped>\n",
       "    .dataframe tbody tr th:only-of-type {\n",
       "        vertical-align: middle;\n",
       "    }\n",
       "\n",
       "    .dataframe tbody tr th {\n",
       "        vertical-align: top;\n",
       "    }\n",
       "\n",
       "    .dataframe thead th {\n",
       "        text-align: right;\n",
       "    }\n",
       "</style>\n",
       "<table border=\"1\" class=\"dataframe\">\n",
       "  <thead>\n",
       "    <tr style=\"text-align: right;\">\n",
       "      <th></th>\n",
       "      <th>abbr</th>\n",
       "      <th>name</th>\n",
       "    </tr>\n",
       "  </thead>\n",
       "  <tbody>\n",
       "    <tr>\n",
       "      <th>0</th>\n",
       "      <td>AL</td>\n",
       "      <td>Alabama</td>\n",
       "    </tr>\n",
       "    <tr>\n",
       "      <th>1</th>\n",
       "      <td>AK</td>\n",
       "      <td>Alaska</td>\n",
       "    </tr>\n",
       "    <tr>\n",
       "      <th>2</th>\n",
       "      <td>AZ</td>\n",
       "      <td>Arizona</td>\n",
       "    </tr>\n",
       "    <tr>\n",
       "      <th>3</th>\n",
       "      <td>AR</td>\n",
       "      <td>Arkansas</td>\n",
       "    </tr>\n",
       "    <tr>\n",
       "      <th>4</th>\n",
       "      <td>CA</td>\n",
       "      <td>California</td>\n",
       "    </tr>\n",
       "  </tbody>\n",
       "</table>\n",
       "</div>"
      ],
      "text/plain": [
       "  abbr         name\n",
       "0   AL      Alabama\n",
       "1   AK      Alaska \n",
       "2   AZ     Arizona \n",
       "3   AR    Arkansas \n",
       "4   CA  California "
      ]
     },
     "execution_count": 11,
     "metadata": {},
     "output_type": "execute_result"
    }
   ],
   "source": [
    "# Read in state info\n",
    "states = pd.read_csv('resources/data/states.csv')\n",
    "states.head()"
   ]
  },
  {
   "cell_type": "code",
   "execution_count": 16,
   "metadata": {},
   "outputs": [
    {
     "data": {
      "text/plain": [
       "['TN', 'TX', 'UT', 'VT', 'VA', 'WA', 'WV', 'WI', 'WY', 'DC']"
      ]
     },
     "execution_count": 16,
     "metadata": {},
     "output_type": "execute_result"
    }
   ],
   "source": [
    "# Create list of state codes and add DC\n",
    "state_codes = list(states.abbr)\n",
    "state_codes.append('DC')\n",
    "state_codes[-10:]"
   ]
  },
  {
   "cell_type": "code",
   "execution_count": 48,
   "metadata": {},
   "outputs": [
    {
     "name": "stdout",
     "output_type": "stream",
     "text": [
      "<class 'pandas.core.frame.DataFrame'>\n",
      "Int64Index: 129291 entries, 0 to 131148\n",
      "Data columns (total 4 columns):\n",
      "year       129291 non-null object\n",
      "state      129291 non-null object\n",
      "program    129291 non-null object\n",
      "amount     129291 non-null float64\n",
      "dtypes: float64(1), object(3)\n",
      "memory usage: 4.9+ MB\n"
     ]
    }
   ],
   "source": [
    "df_clean = df_clean[df_clean.state.isin(state_codes)]\n",
    "df_clean.info()"
   ]
  },
  {
   "cell_type": "code",
   "execution_count": 18,
   "metadata": {},
   "outputs": [
    {
     "data": {
      "text/plain": [
       "year          16\n",
       "state         51\n",
       "program        8\n",
       "amount     82186\n",
       "dtype: int64"
      ]
     },
     "execution_count": 18,
     "metadata": {},
     "output_type": "execute_result"
    }
   ],
   "source": [
    "df_clean.nunique()"
   ]
  },
  {
   "cell_type": "markdown",
   "metadata": {},
   "source": [
    "#### Group data by state, year, program"
   ]
  },
  {
   "cell_type": "code",
   "execution_count": 49,
   "metadata": {},
   "outputs": [
    {
     "data": {
      "text/html": [
       "<div>\n",
       "<style scoped>\n",
       "    .dataframe tbody tr th:only-of-type {\n",
       "        vertical-align: middle;\n",
       "    }\n",
       "\n",
       "    .dataframe tbody tr th {\n",
       "        vertical-align: top;\n",
       "    }\n",
       "\n",
       "    .dataframe thead th {\n",
       "        text-align: right;\n",
       "    }\n",
       "</style>\n",
       "<table border=\"1\" class=\"dataframe\">\n",
       "  <thead>\n",
       "    <tr style=\"text-align: right;\">\n",
       "      <th></th>\n",
       "      <th>state</th>\n",
       "      <th>year</th>\n",
       "      <th>program</th>\n",
       "      <th>amount</th>\n",
       "    </tr>\n",
       "  </thead>\n",
       "  <tbody>\n",
       "    <tr>\n",
       "      <th>0</th>\n",
       "      <td>AK</td>\n",
       "      <td>2003</td>\n",
       "      <td>CDBG</td>\n",
       "      <td>5796000.0</td>\n",
       "    </tr>\n",
       "    <tr>\n",
       "      <th>1</th>\n",
       "      <td>AK</td>\n",
       "      <td>2003</td>\n",
       "      <td>Emergency Shelter Grants Program</td>\n",
       "      <td>190000.0</td>\n",
       "    </tr>\n",
       "    <tr>\n",
       "      <th>2</th>\n",
       "      <td>AK</td>\n",
       "      <td>2003</td>\n",
       "      <td>HOME</td>\n",
       "      <td>4114921.0</td>\n",
       "    </tr>\n",
       "    <tr>\n",
       "      <th>3</th>\n",
       "      <td>AK</td>\n",
       "      <td>2003</td>\n",
       "      <td>HOPWA</td>\n",
       "      <td>731120.0</td>\n",
       "    </tr>\n",
       "    <tr>\n",
       "      <th>4</th>\n",
       "      <td>AK</td>\n",
       "      <td>2004</td>\n",
       "      <td>CDBG</td>\n",
       "      <td>5544637.0</td>\n",
       "    </tr>\n",
       "  </tbody>\n",
       "</table>\n",
       "</div>"
      ],
      "text/plain": [
       "  state  year                           program     amount\n",
       "0    AK  2003                              CDBG  5796000.0\n",
       "1    AK  2003  Emergency Shelter Grants Program   190000.0\n",
       "2    AK  2003                              HOME  4114921.0\n",
       "3    AK  2003                             HOPWA   731120.0\n",
       "4    AK  2004                              CDBG  5544637.0"
      ]
     },
     "execution_count": 49,
     "metadata": {},
     "output_type": "execute_result"
    }
   ],
   "source": [
    "df_clean = df_clean.groupby(['state', 'year', 'program']).sum()\n",
    "df_clean.reset_index(inplace=True)\n",
    "df_clean.head()"
   ]
  },
  {
   "cell_type": "code",
   "execution_count": 50,
   "metadata": {},
   "outputs": [
    {
     "name": "stdout",
     "output_type": "stream",
     "text": [
      "<class 'pandas.core.frame.DataFrame'>\n",
      "RangeIndex: 4155 entries, 0 to 4154\n",
      "Data columns (total 4 columns):\n",
      "state      4155 non-null object\n",
      "year       4155 non-null object\n",
      "program    4155 non-null object\n",
      "amount     4155 non-null float64\n",
      "dtypes: float64(1), object(3)\n",
      "memory usage: 129.9+ KB\n"
     ]
    }
   ],
   "source": [
    "df_clean.info()"
   ]
  },
  {
   "cell_type": "code",
   "execution_count": 51,
   "metadata": {},
   "outputs": [],
   "source": [
    "df_clean.to_csv('datasets/grant-allocations.csv', index=False)"
   ]
  },
  {
   "cell_type": "markdown",
   "metadata": {},
   "source": [
    "When reviewing the definitions I discovered that ESG is not a duplicate of Emergency Shetler Grants Program. As such, these need to be seperated out. \n",
    "\n",
    "All references to this cleaning were removed from the document."
   ]
  },
  {
   "cell_type": "markdown",
   "metadata": {},
   "source": [
    "## Definitions"
   ]
  },
  {
   "cell_type": "markdown",
   "metadata": {},
   "source": [
    "As per https://www.hudexchange.info/grantees/allocations-awards/ program filter options.\n",
    "\n",
    "Retrieved August 3, 2018"
   ]
  },
  {
   "cell_type": "markdown",
   "metadata": {},
   "source": [
    "### CDBG \n",
    "[Community Development Block Grant Program](https://www.hud.gov/program_offices/comm_planning/communitydevelopment/programs)\n",
    "\n",
    "_The Community Development Block Grant (CDBG) program is a flexible program that provides communities with resources to address a wide range of unique community development needs. Beginning in 1974, the CDBG program is one of the longest continuously run programs at HUD. The CDBG program provides annual grants on a formula basis to 1209 general units of local government and States._\n",
    "\n",
    "Primary targets:\n",
    "- Low- and moderate-income persons\n",
    "\n",
    "Primary function:\n",
    "- Providing decent housing and economic opportunities, including financing\n",
    "\n",
    "Program components:\n",
    "- **Entitlement Program**: Developing viable urban communities (Grants on a formula basis)\n",
    "- **State Program**: Allows States to award grants to smaller units of general local government that develop and preserve decent affordable housing, to provide services to the most vulnerable in our communities, and to create and retain jobs.\n",
    "- **HUD Administered Non-Entitled Counties in Hawaii Program**: For Hawaii, Kauai, and Maui (Grants on a formula basis)\n",
    "- **Insular Area Program**: For American Somoa, Guam, Northern Mariana Islands, and the US Virgin Islands\n",
    "- **Program Colonias Set-Aside**: Requires the border states of Arizona, California, New Mexico and Texas to set aside a percentage of their annual State CDBG allocations for use in the Colonia to help meet the needs of the Colonias residents in relationship to the need for potable water, adequate sewer systems, or decent, safe and sanitary housing.\n",
    "- **Section 108 Loan Guarantee Program**: The loan guarantee provision of the CDBG Program and provides communities with a source of financing for economic development, housing rehabilitation, public facilities, and large-scale physical development projects.\n",
    "- **Neighborhood Stabilization Program**: Provided grants to communities that suffered from foreclosures and abandonment to purchase and redevelop foreclosed and abandoned homes and residential properties. Congress authorized NSP grants between 2008 and 2011"
   ]
  },
  {
   "cell_type": "markdown",
   "metadata": {},
   "source": [
    "### CoC\n",
    "[Continuum of Care Program](https://www.hudexchange.info/programs/coc/)\n",
    "\n",
    "_The Continuum of Care (CoC) Program is designed to promote communitywide commitment to the goal of ending homelessness; provide funding for efforts by nonprofit providers, and State and local governments to quickly rehouse homeless individuals and families while minimizing the trauma and dislocation caused to homeless individuals, families, and communities by homelessness; promote access to and effect utilization of mainstream programs by homeless individuals and families; and optimize self-sufficiency among individuals and families experiencing homelessness._\n",
    "\n",
    "Primary targets:\n",
    "- Individuals (including unaccompanied youth) and families experiencing homelessness\n",
    "\n",
    "Primary function:\n",
    "- Provide the services needed to help such individuals move into transitional and permanent housing, with the goal of long-term stability\n",
    "\n",
    "Program components:\n",
    "- **Permanent Housing** (PH): Community-based housing without a designated length of stay in which formerly homeless individuals and families live as independently as possible\n",
    "- **Transitional Housing** (TH): Provide homeless individuals and families with the interim stability and support to sucessfully move to and maintain permanent housing\n",
    "- **Supportive Services Only** (SSO): Allows recipients and subrecipients to provide services to homeless individuals and families not residing in housing operated by the recipient. Funds used to conduct outreach to sheltered and unsheltered homeless persons and families, link clients with housing or other necessary services, and provide ongoing support.\n",
    "- **Homeless Management Information System** (HMIS): Used only by Homeless Management Information System (HMIS) leads for leasing a structure in which the HMIS operates, for operating the structure in which the HMIS is housed, and/or for covering other costs related to establishing, operating, and customizing a CoC’s HMIS\n",
    "- **Homelessness Prevention**: Recipients and subrecipients located in HUD-designated High Performing Communities (HPCs) may use CoC Program funds for homelessness prevention assistance for individuals and families at risk of homelessness. The services under this component may include housing relocation and stabilization services as well as short- and medium-term rental assistance to prevent an individual or family from becoming homeless.\n",
    "- **Safe Havens**: New projects no longer eligible, but existing projects are able to be renewed. \n",
    "- **Section 8 Moderate Rehabilitation SRO**: New projects no longer eligible, but existing projects are able to be renewed. \n",
    "\n",
    "Eligible costs:\n",
    "- Real property acquisition\n",
    "- Structure rehabilitation\n",
    "- New construction\n",
    "- Leasing costs for PH, TH, SSO, and HMIS programs\n",
    "- Rental assistance costs for PH and TH programs; can be tenant-based (TBRA), sponsor-based (SPRA), or project-based (PBRA)\n",
    "- Supportive services costs for PH, TH, and SSO programs, and for Rapid Re-Housing (RRH)\n",
    "- Operating costs for PH, TH, and HMIS programs\n",
    "- HMIS costs contirbuting or maintaining client data\n",
    "- Project Administration"
   ]
  },
  {
   "cell_type": "markdown",
   "metadata": {},
   "source": [
    "### [Emergency Shelter Grants Program](https://www.hudexchange.info/programs/emergency-shelter-grants/emergency-shelter-grants-program-requirements/)\n",
    "_The HEARTH Act revised the Emergency Shelter Grants Program to create the Emergency Solutions Grants (ESG) Program. The Emergency Shelter Grants provided funds under the first allocation of FY 2011 funds and earlier fiscal years. ESG recipients and subrecipients use Emergency Shelter Grants Program funds to rehabilitate and operate emergency shelters and transitional shelters, provide essential social services, and prevent homelessness._\n",
    "\n",
    "Primary targets:\n",
    "- Homeless individuals and families, and subpopulations within this group, such as victims of domestic violence, youth, people with mental illness, families with children and veterans, and people at imminent risk of homelessness\n",
    "\n",
    "Primary functions:\n",
    "- Improve the number and quality of emergency shelters for homeless individuals and families\n",
    "- Help operate shelters\n",
    "- Provide essential social services to shelter residents\n",
    "- Prevent families and individuals from becoming homeless\n",
    "\n",
    "Eligible costs:\n",
    "- Major renovation, rehabilitation, or conversion of buildings\n",
    "- Essential services concerned with employment, health, drug abuse, and education\n",
    "- Operating costs\n",
    "- Homelessness prevention by providing shor-term payments of rent, utilities, security deposits, landlord-tenant mediation, and tenant legal services\n",
    "- Grant administration"
   ]
  },
  {
   "cell_type": "markdown",
   "metadata": {},
   "source": [
    "### ESG\n",
    "[Emergency Solutions Grants Program](https://www.hudexchange.info/programs/esg/)\n",
    "\n",
    "_The Homeless Emergency Assistance and Rapid Transition to Housing Act of 2009 (HEARTH Act) amended the McKinney-Vento Homeless Assistance Act, revising the Emergency Shelter Grants Program in significant ways and renaming it the Emergency Solutions Grants (ESG) program. The ESG Interim Rule took effect on January 4, 2012. The second allocation of FY 2011 ESG funding and future years are all subject to the ESG regulations._\n",
    "\n",
    "Primary targets:\n",
    "- Homeless individuals and families, and subpopulations within this group, such as victims of domestic violence, youth, people with mental illness, families with children and veterans, and people at imminent risk of homelessness\n",
    "\n",
    "Primary functions:\n",
    "- Engage homeless individuals and families living on the street\n",
    "- Improve the number and quality of emergency shelters for homeless individuals and families\n",
    "- Help operate these shelters\n",
    "- Provide essential services to shelter residents\n",
    "- Rapidly re-house homeless individuals and families\n",
    "- Prevent families and individuals from becoming homeless\n",
    "\n",
    "Eligible Recipients:\n",
    "- Metropolitan cities\n",
    "- Urban counties\n",
    "- Territories\n",
    "- States\n",
    "\n",
    "The first three may subgrant to privite non-profit organizations. States must subgrant all funds (except administration and sometimes HMIS costs) to local government and/or private non-profits. All must consult with Continuum(s) of Core in determining how to allocate funds.\n",
    "\n",
    "Program components:\n",
    "- Street outreach\n",
    "- Emergency shelter\n",
    "- Homelessness prevention\n",
    "- Rapid Re-Housing\n",
    "- Data collection (HMIS)\n",
    "- Administration (up to 7.5%)"
   ]
  },
  {
   "cell_type": "markdown",
   "metadata": {},
   "source": [
    "### HOME\n",
    "[HOME Investment Partnership Program](https://www.hud.gov/program_offices/comm_planning/affordablehousing/programs/home)\n",
    "\n",
    "_The HOME Investment Partnerships Program (HOME) provides formula grants to States and localities that communities use - often in partnership with local nonprofit groups - to fund a wide range of activities including building, buying, and/or rehabilitating affordable housing for rent or homeownership or providing direct rental assistance to low-income people._\n",
    "\n",
    "Primary target:\n",
    "- Low-income households\n",
    "\n",
    "Primary function:\n",
    "- Create affordable housing\n",
    "\n",
    "Eligible recipients:\n",
    "- States: receive either \\$3M or formula allocation, whichever is more\n",
    "- Local jurisdictions: those that are eligible for at least \\$500K (or \\$335K when less than \\$1.5B appropriate)\n",
    "- Communities that do not qualify: can join in a legally binding consortium to meet the threshold\n",
    "- Allocation formula considers jurisdiction's housing supply, its incidence of poverty, its fiscal distress, and other factors\n",
    "\n",
    "Eligible activities:\n",
    "- Home purchase or rehabilitation financing to eligible homeowners and new homebuyers\n",
    "- Build or rehabilitate housing for rent or ownership\n",
    "- Other reasonable and necessary expenses related to the development of non-luxury housing, including site acquisition or improvement, demolition of dilapidated housing, and relocation expenses\n",
    "- Tenant-based rental assistance contracts of up to 2 years if such activity is consistent with their Consolidated Plan and justified under local market conditions\n",
    "- Program planning and administration (up to 10%)"
   ]
  },
  {
   "cell_type": "markdown",
   "metadata": {},
   "source": [
    "### HOPWA\n",
    "[Housing Opportunities for Persons with AIDS Program](https://www.hudexchange.info/programs/hopwa/)\n",
    "\n",
    "_The Housing Opportunities for Persons With AIDS (HOPWA) Program is the only Federal program dedicated to the housing needs of people living with HIV/AIDS. Under the HOPWA Program, HUD makes grants to local communities, States, and nonprofit organizations for projects that benefit low-income persons living with HIV/AIDS and their families._\n",
    "\n",
    "Primary targets:\n",
    "- Low-income persons living with HIV/AIDS and their families\n",
    "\n",
    "Primary functions:\n",
    "- Provide housing assistance and related supportive services\n",
    "\n",
    "Eligible recipients:\n",
    "- Divided between the two programs – 90 percent for formula program grants and 10 percent for competitive program grants\n",
    "- States, local governments, and nonprofit organizations\n",
    "- Priority given by congressional authority to the renewal of expiring permanent supportive housing project grants\n",
    "\n",
    "Eligible activities:\n",
    "- Acquisition; rehabilitation; or new construction of housing units\n",
    "- Costs for facility operations\n",
    "- Rental assistance\n",
    "- Short-term payments to prevent homelessness\n",
    "- Services including (but not limited to) assessment and case management, substance abuse treatment, mental health treatment, nutritional services, job training and placement assistance, and assistance with daily living"
   ]
  },
  {
   "cell_type": "markdown",
   "metadata": {},
   "source": [
    "### NSP\n",
    "[Neighborhood Stabilization Program](https://www.hudexchange.info/programs/nsp/)\n",
    "\n",
    "_Congress established the Neighborhood Stabilization Program (NSP) for the purpose of stabilizing communities that have suffered from foreclosures and abandonment. Through the purchase and redevelopment of foreclosed and abandoned homes and residential properties, the goal of the program is being realized._\n",
    "\n",
    "Primary targets:\n",
    "- Communities with high rates of abandoned and foreclosed homes\n",
    "- Households whose annual incomes are up to [120 percent of the area median income (AMI)](https://www.hudexchange.info/resource/3680/nsp-income-limits/)\n",
    "\n",
    "Eligible recipients:\n",
    "- First round (approved 2008): State and local governments on a formula basis\n",
    "- Second round (approved 2009): States, local governments, nonprofits, and consortia of nonprofit entities on a competitive basis\n",
    "- Third round (approved 2010): State and local governments on a formula basis\n",
    "\n",
    "Eligible activities:\n",
    "- Establish financing mechanisms for purchase and redevelopment of foreclosed homes and residential properties\n",
    "- Purchase and rehabilitate homes and residential properties abandoned or foreclosed\n",
    "- Establish land banks for foreclosed homes\n",
    "- Demolish blighted structures\n",
    "- Redevelop demolished or vacant properties\n",
    "\n",
    "Activities must be provided to households, areas, or a limited clientele whose incomes are at or below the 120% AMI. NSP grantees develop their own programs and funding priorities. However, grantees must use at least 25% of the funds appropriated to house individuals or families whose incomes do not exceed 50% of the area median income."
   ]
  }
 ],
 "metadata": {
  "kernelspec": {
   "display_name": "Python [conda env:dand]",
   "language": "python",
   "name": "conda-env-dand-py"
  },
  "language_info": {
   "codemirror_mode": {
    "name": "ipython",
    "version": 3
   },
   "file_extension": ".py",
   "mimetype": "text/x-python",
   "name": "python",
   "nbconvert_exporter": "python",
   "pygments_lexer": "ipython3",
   "version": "3.6.5"
  }
 },
 "nbformat": 4,
 "nbformat_minor": 2
}
