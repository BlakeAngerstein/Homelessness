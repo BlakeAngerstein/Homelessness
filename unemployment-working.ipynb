{
 "cells": [
  {
   "cell_type": "code",
   "execution_count": 1,
   "metadata": {},
   "outputs": [],
   "source": [
    "import pandas as pd\n",
    "import numpy as np\n",
    "import matplotlib.pyplot as plt\n",
    "import seaborn as sns\n",
    "%matplotlib inline"
   ]
  },
  {
   "cell_type": "code",
   "execution_count": 2,
   "metadata": {},
   "outputs": [],
   "source": [
    "work_df = pd.read_csv('resources/data/unemployment-by-state.csv')"
   ]
  },
  {
   "cell_type": "code",
   "execution_count": 3,
   "metadata": {},
   "outputs": [
    {
     "data": {
      "text/html": [
       "<div>\n",
       "<style scoped>\n",
       "    .dataframe tbody tr th:only-of-type {\n",
       "        vertical-align: middle;\n",
       "    }\n",
       "\n",
       "    .dataframe tbody tr th {\n",
       "        vertical-align: top;\n",
       "    }\n",
       "\n",
       "    .dataframe thead th {\n",
       "        text-align: right;\n",
       "    }\n",
       "</style>\n",
       "<table border=\"1\" class=\"dataframe\">\n",
       "  <thead>\n",
       "    <tr style=\"text-align: right;\">\n",
       "      <th></th>\n",
       "      <th>State</th>\n",
       "      <th>2007</th>\n",
       "      <th>2008</th>\n",
       "      <th>2009</th>\n",
       "      <th>2010</th>\n",
       "      <th>2011</th>\n",
       "      <th>2012</th>\n",
       "      <th>2013</th>\n",
       "      <th>2014</th>\n",
       "      <th>2015</th>\n",
       "      <th>2016</th>\n",
       "      <th>2017</th>\n",
       "    </tr>\n",
       "  </thead>\n",
       "  <tbody>\n",
       "    <tr>\n",
       "      <th>0</th>\n",
       "      <td>United States</td>\n",
       "      <td>4.6</td>\n",
       "      <td>5.8</td>\n",
       "      <td>9.3</td>\n",
       "      <td>9.6</td>\n",
       "      <td>8.9</td>\n",
       "      <td>8.1</td>\n",
       "      <td>7.4</td>\n",
       "      <td>6.2</td>\n",
       "      <td>5.3</td>\n",
       "      <td>4.9</td>\n",
       "      <td>4.4</td>\n",
       "    </tr>\n",
       "    <tr>\n",
       "      <th>1</th>\n",
       "      <td>Alabama</td>\n",
       "      <td>4.0</td>\n",
       "      <td>5.7</td>\n",
       "      <td>11.0</td>\n",
       "      <td>10.5</td>\n",
       "      <td>9.6</td>\n",
       "      <td>8.0</td>\n",
       "      <td>7.2</td>\n",
       "      <td>6.8</td>\n",
       "      <td>6.1</td>\n",
       "      <td>5.9</td>\n",
       "      <td>4.4</td>\n",
       "    </tr>\n",
       "    <tr>\n",
       "      <th>2</th>\n",
       "      <td>Alaska</td>\n",
       "      <td>6.3</td>\n",
       "      <td>6.7</td>\n",
       "      <td>7.7</td>\n",
       "      <td>7.9</td>\n",
       "      <td>7.6</td>\n",
       "      <td>7.1</td>\n",
       "      <td>7.0</td>\n",
       "      <td>6.9</td>\n",
       "      <td>6.5</td>\n",
       "      <td>6.9</td>\n",
       "      <td>7.2</td>\n",
       "    </tr>\n",
       "    <tr>\n",
       "      <th>3</th>\n",
       "      <td>Arizona</td>\n",
       "      <td>3.9</td>\n",
       "      <td>6.2</td>\n",
       "      <td>9.9</td>\n",
       "      <td>10.4</td>\n",
       "      <td>9.5</td>\n",
       "      <td>8.3</td>\n",
       "      <td>7.7</td>\n",
       "      <td>6.8</td>\n",
       "      <td>6.1</td>\n",
       "      <td>5.4</td>\n",
       "      <td>4.9</td>\n",
       "    </tr>\n",
       "    <tr>\n",
       "      <th>4</th>\n",
       "      <td>Arkansas</td>\n",
       "      <td>5.3</td>\n",
       "      <td>5.5</td>\n",
       "      <td>7.8</td>\n",
       "      <td>8.2</td>\n",
       "      <td>8.3</td>\n",
       "      <td>7.6</td>\n",
       "      <td>7.2</td>\n",
       "      <td>6.0</td>\n",
       "      <td>5.0</td>\n",
       "      <td>3.9</td>\n",
       "      <td>3.7</td>\n",
       "    </tr>\n",
       "  </tbody>\n",
       "</table>\n",
       "</div>"
      ],
      "text/plain": [
       "           State  2007  2008  2009  2010  2011  2012  2013  2014  2015  2016  \\\n",
       "0  United States   4.6   5.8   9.3   9.6   8.9   8.1   7.4   6.2   5.3   4.9   \n",
       "1        Alabama   4.0   5.7  11.0  10.5   9.6   8.0   7.2   6.8   6.1   5.9   \n",
       "2         Alaska   6.3   6.7   7.7   7.9   7.6   7.1   7.0   6.9   6.5   6.9   \n",
       "3        Arizona   3.9   6.2   9.9  10.4   9.5   8.3   7.7   6.8   6.1   5.4   \n",
       "4       Arkansas   5.3   5.5   7.8   8.2   8.3   7.6   7.2   6.0   5.0   3.9   \n",
       "\n",
       "   2017  \n",
       "0   4.4  \n",
       "1   4.4  \n",
       "2   7.2  \n",
       "3   4.9  \n",
       "4   3.7  "
      ]
     },
     "execution_count": 3,
     "metadata": {},
     "output_type": "execute_result"
    }
   ],
   "source": [
    "work_df.head()"
   ]
  },
  {
   "cell_type": "code",
   "execution_count": 4,
   "metadata": {},
   "outputs": [
    {
     "name": "stdout",
     "output_type": "stream",
     "text": [
      "<class 'pandas.core.frame.DataFrame'>\n",
      "RangeIndex: 52 entries, 0 to 51\n",
      "Data columns (total 12 columns):\n",
      "State    52 non-null object\n",
      "2007     52 non-null float64\n",
      "2008     52 non-null float64\n",
      "2009     52 non-null float64\n",
      "2010     52 non-null float64\n",
      "2011     52 non-null float64\n",
      "2012     52 non-null float64\n",
      "2013     52 non-null float64\n",
      "2014     52 non-null float64\n",
      "2015     52 non-null float64\n",
      "2016     52 non-null float64\n",
      "2017     52 non-null float64\n",
      "dtypes: float64(11), object(1)\n",
      "memory usage: 5.0+ KB\n"
     ]
    }
   ],
   "source": [
    "work_df.info()"
   ]
  },
  {
   "cell_type": "code",
   "execution_count": 5,
   "metadata": {},
   "outputs": [
    {
     "data": {
      "text/plain": [
       "array(['United States', 'Alabama', 'Alaska', 'Arizona', 'Arkansas',\n",
       "       'California', 'Colorado', 'Connecticut', 'Delaware',\n",
       "       'District of Columbia', 'Florida', 'Georgia', 'Hawaii', 'Idaho',\n",
       "       'Illinois', 'Indiana', 'Iowa', 'Kansas', 'Kentucky', 'Louisiana',\n",
       "       'Maine', 'Maryland', 'Massachusetts', 'Michigan', 'Minnesota',\n",
       "       'Mississippi', 'Missouri', 'Montana', 'Nebraska', 'Nevada',\n",
       "       'New Hampshire', 'New Jersey', 'New Mexico', 'New York',\n",
       "       'North Carolina', 'North Dakota', 'Ohio', 'Oklahoma', 'Oregon',\n",
       "       'Pennsylvania', 'Rhode Island', 'South Carolina', 'South Dakota',\n",
       "       'Tennessee', 'Texas', 'Utah', 'Vermont', 'Virginia', 'Washington',\n",
       "       'West Virginia', 'Wisconsin', 'Wyoming'], dtype=object)"
      ]
     },
     "execution_count": 5,
     "metadata": {},
     "output_type": "execute_result"
    }
   ],
   "source": [
    "work_df.State.unique()"
   ]
  },
  {
   "cell_type": "code",
   "execution_count": 6,
   "metadata": {},
   "outputs": [
    {
     "data": {
      "text/html": [
       "<div>\n",
       "<style scoped>\n",
       "    .dataframe tbody tr th:only-of-type {\n",
       "        vertical-align: middle;\n",
       "    }\n",
       "\n",
       "    .dataframe tbody tr th {\n",
       "        vertical-align: top;\n",
       "    }\n",
       "\n",
       "    .dataframe thead th {\n",
       "        text-align: right;\n",
       "    }\n",
       "</style>\n",
       "<table border=\"1\" class=\"dataframe\">\n",
       "  <thead>\n",
       "    <tr style=\"text-align: right;\">\n",
       "      <th></th>\n",
       "      <th>State</th>\n",
       "      <th>2007</th>\n",
       "      <th>2008</th>\n",
       "      <th>2009</th>\n",
       "      <th>2010</th>\n",
       "      <th>2011</th>\n",
       "      <th>2012</th>\n",
       "      <th>2013</th>\n",
       "      <th>2014</th>\n",
       "      <th>2015</th>\n",
       "      <th>2016</th>\n",
       "      <th>2017</th>\n",
       "    </tr>\n",
       "  </thead>\n",
       "  <tbody>\n",
       "    <tr>\n",
       "      <th>9</th>\n",
       "      <td>District of Columbia</td>\n",
       "      <td>5.5</td>\n",
       "      <td>6.5</td>\n",
       "      <td>9.3</td>\n",
       "      <td>9.4</td>\n",
       "      <td>10.2</td>\n",
       "      <td>9.0</td>\n",
       "      <td>8.5</td>\n",
       "      <td>7.8</td>\n",
       "      <td>6.9</td>\n",
       "      <td>6.1</td>\n",
       "      <td>6.1</td>\n",
       "    </tr>\n",
       "  </tbody>\n",
       "</table>\n",
       "</div>"
      ],
      "text/plain": [
       "                  State  2007  2008  2009  2010  2011  2012  2013  2014  2015  \\\n",
       "9  District of Columbia   5.5   6.5   9.3   9.4  10.2   9.0   8.5   7.8   6.9   \n",
       "\n",
       "   2016  2017  \n",
       "9   6.1   6.1  "
      ]
     },
     "execution_count": 6,
     "metadata": {},
     "output_type": "execute_result"
    }
   ],
   "source": [
    "work_df.query('State == \"District of Columbia\"')"
   ]
  },
  {
   "cell_type": "markdown",
   "metadata": {},
   "source": [
    "Drop unnecessary state names"
   ]
  },
  {
   "cell_type": "code",
   "execution_count": 7,
   "metadata": {},
   "outputs": [],
   "source": [
    "work_df.drop([0, 9], axis=0, inplace=True)"
   ]
  },
  {
   "cell_type": "code",
   "execution_count": 8,
   "metadata": {},
   "outputs": [
    {
     "data": {
      "text/plain": [
       "(50, 12)"
      ]
     },
     "execution_count": 8,
     "metadata": {},
     "output_type": "execute_result"
    }
   ],
   "source": [
    "work_df.shape"
   ]
  },
  {
   "cell_type": "markdown",
   "metadata": {},
   "source": [
    "Convert to long format"
   ]
  },
  {
   "cell_type": "code",
   "execution_count": 9,
   "metadata": {},
   "outputs": [],
   "source": [
    "work_df = pd.melt(work_df, \n",
    "        id_vars='State', \n",
    "        value_vars=['2007', '2008', '2009', '2010', '2011', '2012', '2013', '2014', '2015', '2016', '2017'], \n",
    "        var_name='year', \n",
    "        value_name='unemployment')"
   ]
  },
  {
   "cell_type": "code",
   "execution_count": 10,
   "metadata": {},
   "outputs": [
    {
     "data": {
      "text/html": [
       "<div>\n",
       "<style scoped>\n",
       "    .dataframe tbody tr th:only-of-type {\n",
       "        vertical-align: middle;\n",
       "    }\n",
       "\n",
       "    .dataframe tbody tr th {\n",
       "        vertical-align: top;\n",
       "    }\n",
       "\n",
       "    .dataframe thead th {\n",
       "        text-align: right;\n",
       "    }\n",
       "</style>\n",
       "<table border=\"1\" class=\"dataframe\">\n",
       "  <thead>\n",
       "    <tr style=\"text-align: right;\">\n",
       "      <th></th>\n",
       "      <th>State</th>\n",
       "      <th>year</th>\n",
       "      <th>unemployment</th>\n",
       "    </tr>\n",
       "  </thead>\n",
       "  <tbody>\n",
       "    <tr>\n",
       "      <th>0</th>\n",
       "      <td>Alabama</td>\n",
       "      <td>2007</td>\n",
       "      <td>4.0</td>\n",
       "    </tr>\n",
       "    <tr>\n",
       "      <th>1</th>\n",
       "      <td>Alaska</td>\n",
       "      <td>2007</td>\n",
       "      <td>6.3</td>\n",
       "    </tr>\n",
       "    <tr>\n",
       "      <th>2</th>\n",
       "      <td>Arizona</td>\n",
       "      <td>2007</td>\n",
       "      <td>3.9</td>\n",
       "    </tr>\n",
       "    <tr>\n",
       "      <th>3</th>\n",
       "      <td>Arkansas</td>\n",
       "      <td>2007</td>\n",
       "      <td>5.3</td>\n",
       "    </tr>\n",
       "    <tr>\n",
       "      <th>4</th>\n",
       "      <td>California</td>\n",
       "      <td>2007</td>\n",
       "      <td>5.4</td>\n",
       "    </tr>\n",
       "  </tbody>\n",
       "</table>\n",
       "</div>"
      ],
      "text/plain": [
       "        State  year  unemployment\n",
       "0     Alabama  2007           4.0\n",
       "1      Alaska  2007           6.3\n",
       "2     Arizona  2007           3.9\n",
       "3    Arkansas  2007           5.3\n",
       "4  California  2007           5.4"
      ]
     },
     "execution_count": 10,
     "metadata": {},
     "output_type": "execute_result"
    }
   ],
   "source": [
    "work_df.head()"
   ]
  },
  {
   "cell_type": "markdown",
   "metadata": {},
   "source": [
    "Change to lower case column names"
   ]
  },
  {
   "cell_type": "code",
   "execution_count": 11,
   "metadata": {},
   "outputs": [],
   "source": [
    "cols = ['state', 'year', 'unemployment']\n",
    "work_df.columns = cols"
   ]
  },
  {
   "cell_type": "code",
   "execution_count": 12,
   "metadata": {},
   "outputs": [
    {
     "data": {
      "text/html": [
       "<div>\n",
       "<style scoped>\n",
       "    .dataframe tbody tr th:only-of-type {\n",
       "        vertical-align: middle;\n",
       "    }\n",
       "\n",
       "    .dataframe tbody tr th {\n",
       "        vertical-align: top;\n",
       "    }\n",
       "\n",
       "    .dataframe thead th {\n",
       "        text-align: right;\n",
       "    }\n",
       "</style>\n",
       "<table border=\"1\" class=\"dataframe\">\n",
       "  <thead>\n",
       "    <tr style=\"text-align: right;\">\n",
       "      <th></th>\n",
       "      <th>state</th>\n",
       "      <th>year</th>\n",
       "      <th>unemployment</th>\n",
       "    </tr>\n",
       "  </thead>\n",
       "  <tbody>\n",
       "    <tr>\n",
       "      <th>0</th>\n",
       "      <td>Alabama</td>\n",
       "      <td>2007</td>\n",
       "      <td>4.0</td>\n",
       "    </tr>\n",
       "    <tr>\n",
       "      <th>1</th>\n",
       "      <td>Alaska</td>\n",
       "      <td>2007</td>\n",
       "      <td>6.3</td>\n",
       "    </tr>\n",
       "    <tr>\n",
       "      <th>2</th>\n",
       "      <td>Arizona</td>\n",
       "      <td>2007</td>\n",
       "      <td>3.9</td>\n",
       "    </tr>\n",
       "    <tr>\n",
       "      <th>3</th>\n",
       "      <td>Arkansas</td>\n",
       "      <td>2007</td>\n",
       "      <td>5.3</td>\n",
       "    </tr>\n",
       "    <tr>\n",
       "      <th>4</th>\n",
       "      <td>California</td>\n",
       "      <td>2007</td>\n",
       "      <td>5.4</td>\n",
       "    </tr>\n",
       "  </tbody>\n",
       "</table>\n",
       "</div>"
      ],
      "text/plain": [
       "        state  year  unemployment\n",
       "0     Alabama  2007           4.0\n",
       "1      Alaska  2007           6.3\n",
       "2     Arizona  2007           3.9\n",
       "3    Arkansas  2007           5.3\n",
       "4  California  2007           5.4"
      ]
     },
     "execution_count": 12,
     "metadata": {},
     "output_type": "execute_result"
    }
   ],
   "source": [
    "work_df.head()"
   ]
  },
  {
   "cell_type": "code",
   "execution_count": 13,
   "metadata": {},
   "outputs": [
    {
     "name": "stdout",
     "output_type": "stream",
     "text": [
      "<class 'pandas.core.frame.DataFrame'>\n",
      "RangeIndex: 550 entries, 0 to 549\n",
      "Data columns (total 3 columns):\n",
      "state           550 non-null object\n",
      "year            550 non-null object\n",
      "unemployment    550 non-null float64\n",
      "dtypes: float64(1), object(2)\n",
      "memory usage: 13.0+ KB\n"
     ]
    }
   ],
   "source": [
    "work_df.info()"
   ]
  },
  {
   "cell_type": "code",
   "execution_count": 14,
   "metadata": {},
   "outputs": [],
   "source": [
    "work_df.to_csv('datasets/unemployment.csv')"
   ]
  },
  {
   "cell_type": "code",
   "execution_count": 18,
   "metadata": {},
   "outputs": [
    {
     "data": {
      "text/plain": [
       "array(['Alabama', 'Alaska', 'Arizona', 'Arkansas', 'California',\n",
       "       'Colorado', 'Connecticut', 'Delaware', 'Florida', 'Georgia',\n",
       "       'Hawaii', 'Idaho', 'Illinois', 'Indiana', 'Iowa', 'Kansas',\n",
       "       'Kentucky', 'Louisiana', 'Maine', 'Maryland', 'Massachusetts',\n",
       "       'Michigan', 'Minnesota', 'Mississippi', 'Missouri', 'Montana',\n",
       "       'Nebraska', 'Nevada', 'New Hampshire', 'New Jersey', 'New Mexico',\n",
       "       'New York', 'North Carolina', 'North Dakota', 'Ohio', 'Oklahoma',\n",
       "       'Oregon', 'Pennsylvania', 'Rhode Island', 'South Carolina',\n",
       "       'South Dakota', 'Tennessee', 'Texas', 'Utah', 'Vermont',\n",
       "       'Virginia', 'Washington', 'West Virginia', 'Wisconsin', 'Wyoming'],\n",
       "      dtype=object)"
      ]
     },
     "execution_count": 18,
     "metadata": {},
     "output_type": "execute_result"
    }
   ],
   "source": [
    "work_df.state.unique()"
   ]
  },
  {
   "cell_type": "markdown",
   "metadata": {},
   "source": [
    "### Join to tableau data"
   ]
  },
  {
   "cell_type": "code",
   "execution_count": 22,
   "metadata": {},
   "outputs": [
    {
     "data": {
      "text/html": [
       "<div>\n",
       "<style scoped>\n",
       "    .dataframe tbody tr th:only-of-type {\n",
       "        vertical-align: middle;\n",
       "    }\n",
       "\n",
       "    .dataframe tbody tr th {\n",
       "        vertical-align: top;\n",
       "    }\n",
       "\n",
       "    .dataframe thead th {\n",
       "        text-align: right;\n",
       "    }\n",
       "</style>\n",
       "<table border=\"1\" class=\"dataframe\">\n",
       "  <thead>\n",
       "    <tr style=\"text-align: right;\">\n",
       "      <th></th>\n",
       "      <th>year</th>\n",
       "      <th>total</th>\n",
       "      <th>individual</th>\n",
       "      <th>family</th>\n",
       "      <th>youth</th>\n",
       "      <th>child</th>\n",
       "      <th>yadult</th>\n",
       "      <th>yparent</th>\n",
       "      <th>yparent_u18</th>\n",
       "      <th>yparent_18to24</th>\n",
       "      <th>ypchild</th>\n",
       "      <th>state</th>\n",
       "      <th>population</th>\n",
       "      <th>per_capita</th>\n",
       "      <th>individual_rent</th>\n",
       "      <th>family_rent</th>\n",
       "    </tr>\n",
       "  </thead>\n",
       "  <tbody>\n",
       "    <tr>\n",
       "      <th>0</th>\n",
       "      <td>2017</td>\n",
       "      <td>1845.0</td>\n",
       "      <td>1354.0</td>\n",
       "      <td>491.0</td>\n",
       "      <td>162.0</td>\n",
       "      <td>15.0</td>\n",
       "      <td>147.0</td>\n",
       "      <td>22.0</td>\n",
       "      <td>0.0</td>\n",
       "      <td>22.0</td>\n",
       "      <td>39.0</td>\n",
       "      <td>Alaska</td>\n",
       "      <td>739795.0</td>\n",
       "      <td>2.493934</td>\n",
       "      <td>878.625000</td>\n",
       "      <td>1642.000000</td>\n",
       "    </tr>\n",
       "    <tr>\n",
       "      <th>1</th>\n",
       "      <td>2017</td>\n",
       "      <td>3793.0</td>\n",
       "      <td>2985.0</td>\n",
       "      <td>808.0</td>\n",
       "      <td>294.0</td>\n",
       "      <td>36.0</td>\n",
       "      <td>258.0</td>\n",
       "      <td>29.0</td>\n",
       "      <td>6.0</td>\n",
       "      <td>23.0</td>\n",
       "      <td>39.0</td>\n",
       "      <td>Alabama</td>\n",
       "      <td>4874747.0</td>\n",
       "      <td>0.778092</td>\n",
       "      <td>625.791667</td>\n",
       "      <td>1027.611111</td>\n",
       "    </tr>\n",
       "    <tr>\n",
       "      <th>2</th>\n",
       "      <td>2017</td>\n",
       "      <td>2467.0</td>\n",
       "      <td>2068.0</td>\n",
       "      <td>399.0</td>\n",
       "      <td>208.0</td>\n",
       "      <td>17.0</td>\n",
       "      <td>191.0</td>\n",
       "      <td>10.0</td>\n",
       "      <td>0.0</td>\n",
       "      <td>10.0</td>\n",
       "      <td>13.0</td>\n",
       "      <td>Arkansas</td>\n",
       "      <td>3004279.0</td>\n",
       "      <td>0.821162</td>\n",
       "      <td>544.416667</td>\n",
       "      <td>942.305556</td>\n",
       "    </tr>\n",
       "    <tr>\n",
       "      <th>3</th>\n",
       "      <td>2017</td>\n",
       "      <td>8947.0</td>\n",
       "      <td>6488.0</td>\n",
       "      <td>2459.0</td>\n",
       "      <td>578.0</td>\n",
       "      <td>55.0</td>\n",
       "      <td>523.0</td>\n",
       "      <td>81.0</td>\n",
       "      <td>0.0</td>\n",
       "      <td>81.0</td>\n",
       "      <td>112.0</td>\n",
       "      <td>Arizona</td>\n",
       "      <td>7016270.0</td>\n",
       "      <td>1.275179</td>\n",
       "      <td>744.416667</td>\n",
       "      <td>1399.694444</td>\n",
       "    </tr>\n",
       "    <tr>\n",
       "      <th>4</th>\n",
       "      <td>2017</td>\n",
       "      <td>134278.0</td>\n",
       "      <td>112756.0</td>\n",
       "      <td>21522.0</td>\n",
       "      <td>15458.0</td>\n",
       "      <td>1649.0</td>\n",
       "      <td>13809.0</td>\n",
       "      <td>890.0</td>\n",
       "      <td>16.0</td>\n",
       "      <td>874.0</td>\n",
       "      <td>1058.0</td>\n",
       "      <td>California</td>\n",
       "      <td>39536653.0</td>\n",
       "      <td>3.396292</td>\n",
       "      <td>1308.875000</td>\n",
       "      <td>2402.277778</td>\n",
       "    </tr>\n",
       "  </tbody>\n",
       "</table>\n",
       "</div>"
      ],
      "text/plain": [
       "   year     total  individual   family    youth   child   yadult  yparent  \\\n",
       "0  2017    1845.0      1354.0    491.0    162.0    15.0    147.0     22.0   \n",
       "1  2017    3793.0      2985.0    808.0    294.0    36.0    258.0     29.0   \n",
       "2  2017    2467.0      2068.0    399.0    208.0    17.0    191.0     10.0   \n",
       "3  2017    8947.0      6488.0   2459.0    578.0    55.0    523.0     81.0   \n",
       "4  2017  134278.0    112756.0  21522.0  15458.0  1649.0  13809.0    890.0   \n",
       "\n",
       "   yparent_u18  yparent_18to24  ypchild       state  population  per_capita  \\\n",
       "0          0.0            22.0     39.0      Alaska    739795.0    2.493934   \n",
       "1          6.0            23.0     39.0     Alabama   4874747.0    0.778092   \n",
       "2          0.0            10.0     13.0    Arkansas   3004279.0    0.821162   \n",
       "3          0.0            81.0    112.0     Arizona   7016270.0    1.275179   \n",
       "4         16.0           874.0   1058.0  California  39536653.0    3.396292   \n",
       "\n",
       "   individual_rent  family_rent  \n",
       "0       878.625000  1642.000000  \n",
       "1       625.791667  1027.611111  \n",
       "2       544.416667   942.305556  \n",
       "3       744.416667  1399.694444  \n",
       "4      1308.875000  2402.277778  "
      ]
     },
     "execution_count": 22,
     "metadata": {},
     "output_type": "execute_result"
    }
   ],
   "source": [
    "df = pd.read_csv('datasets/tableau-data.csv')\n",
    "df.head()"
   ]
  },
  {
   "cell_type": "markdown",
   "metadata": {},
   "source": [
    "Convert `work_df.year` to int for joining"
   ]
  },
  {
   "cell_type": "code",
   "execution_count": 20,
   "metadata": {},
   "outputs": [],
   "source": [
    "work_df.year = work_df.year.astype(int)"
   ]
  },
  {
   "cell_type": "code",
   "execution_count": 23,
   "metadata": {},
   "outputs": [
    {
     "data": {
      "text/html": [
       "<div>\n",
       "<style scoped>\n",
       "    .dataframe tbody tr th:only-of-type {\n",
       "        vertical-align: middle;\n",
       "    }\n",
       "\n",
       "    .dataframe tbody tr th {\n",
       "        vertical-align: top;\n",
       "    }\n",
       "\n",
       "    .dataframe thead th {\n",
       "        text-align: right;\n",
       "    }\n",
       "</style>\n",
       "<table border=\"1\" class=\"dataframe\">\n",
       "  <thead>\n",
       "    <tr style=\"text-align: right;\">\n",
       "      <th></th>\n",
       "      <th>year</th>\n",
       "      <th>total</th>\n",
       "      <th>individual</th>\n",
       "      <th>family</th>\n",
       "      <th>youth</th>\n",
       "      <th>child</th>\n",
       "      <th>yadult</th>\n",
       "      <th>yparent</th>\n",
       "      <th>yparent_u18</th>\n",
       "      <th>yparent_18to24</th>\n",
       "      <th>ypchild</th>\n",
       "      <th>state</th>\n",
       "      <th>population</th>\n",
       "      <th>per_capita</th>\n",
       "      <th>individual_rent</th>\n",
       "      <th>family_rent</th>\n",
       "      <th>unemployment</th>\n",
       "    </tr>\n",
       "  </thead>\n",
       "  <tbody>\n",
       "    <tr>\n",
       "      <th>0</th>\n",
       "      <td>2017</td>\n",
       "      <td>1845.0</td>\n",
       "      <td>1354.0</td>\n",
       "      <td>491.0</td>\n",
       "      <td>162.0</td>\n",
       "      <td>15.0</td>\n",
       "      <td>147.0</td>\n",
       "      <td>22.0</td>\n",
       "      <td>0.0</td>\n",
       "      <td>22.0</td>\n",
       "      <td>39.0</td>\n",
       "      <td>Alaska</td>\n",
       "      <td>739795.0</td>\n",
       "      <td>2.493934</td>\n",
       "      <td>878.625000</td>\n",
       "      <td>1642.000000</td>\n",
       "      <td>7.2</td>\n",
       "    </tr>\n",
       "    <tr>\n",
       "      <th>1</th>\n",
       "      <td>2017</td>\n",
       "      <td>3793.0</td>\n",
       "      <td>2985.0</td>\n",
       "      <td>808.0</td>\n",
       "      <td>294.0</td>\n",
       "      <td>36.0</td>\n",
       "      <td>258.0</td>\n",
       "      <td>29.0</td>\n",
       "      <td>6.0</td>\n",
       "      <td>23.0</td>\n",
       "      <td>39.0</td>\n",
       "      <td>Alabama</td>\n",
       "      <td>4874747.0</td>\n",
       "      <td>0.778092</td>\n",
       "      <td>625.791667</td>\n",
       "      <td>1027.611111</td>\n",
       "      <td>4.4</td>\n",
       "    </tr>\n",
       "    <tr>\n",
       "      <th>2</th>\n",
       "      <td>2017</td>\n",
       "      <td>2467.0</td>\n",
       "      <td>2068.0</td>\n",
       "      <td>399.0</td>\n",
       "      <td>208.0</td>\n",
       "      <td>17.0</td>\n",
       "      <td>191.0</td>\n",
       "      <td>10.0</td>\n",
       "      <td>0.0</td>\n",
       "      <td>10.0</td>\n",
       "      <td>13.0</td>\n",
       "      <td>Arkansas</td>\n",
       "      <td>3004279.0</td>\n",
       "      <td>0.821162</td>\n",
       "      <td>544.416667</td>\n",
       "      <td>942.305556</td>\n",
       "      <td>3.7</td>\n",
       "    </tr>\n",
       "    <tr>\n",
       "      <th>3</th>\n",
       "      <td>2017</td>\n",
       "      <td>8947.0</td>\n",
       "      <td>6488.0</td>\n",
       "      <td>2459.0</td>\n",
       "      <td>578.0</td>\n",
       "      <td>55.0</td>\n",
       "      <td>523.0</td>\n",
       "      <td>81.0</td>\n",
       "      <td>0.0</td>\n",
       "      <td>81.0</td>\n",
       "      <td>112.0</td>\n",
       "      <td>Arizona</td>\n",
       "      <td>7016270.0</td>\n",
       "      <td>1.275179</td>\n",
       "      <td>744.416667</td>\n",
       "      <td>1399.694444</td>\n",
       "      <td>4.9</td>\n",
       "    </tr>\n",
       "    <tr>\n",
       "      <th>4</th>\n",
       "      <td>2017</td>\n",
       "      <td>134278.0</td>\n",
       "      <td>112756.0</td>\n",
       "      <td>21522.0</td>\n",
       "      <td>15458.0</td>\n",
       "      <td>1649.0</td>\n",
       "      <td>13809.0</td>\n",
       "      <td>890.0</td>\n",
       "      <td>16.0</td>\n",
       "      <td>874.0</td>\n",
       "      <td>1058.0</td>\n",
       "      <td>California</td>\n",
       "      <td>39536653.0</td>\n",
       "      <td>3.396292</td>\n",
       "      <td>1308.875000</td>\n",
       "      <td>2402.277778</td>\n",
       "      <td>4.8</td>\n",
       "    </tr>\n",
       "  </tbody>\n",
       "</table>\n",
       "</div>"
      ],
      "text/plain": [
       "   year     total  individual   family    youth   child   yadult  yparent  \\\n",
       "0  2017    1845.0      1354.0    491.0    162.0    15.0    147.0     22.0   \n",
       "1  2017    3793.0      2985.0    808.0    294.0    36.0    258.0     29.0   \n",
       "2  2017    2467.0      2068.0    399.0    208.0    17.0    191.0     10.0   \n",
       "3  2017    8947.0      6488.0   2459.0    578.0    55.0    523.0     81.0   \n",
       "4  2017  134278.0    112756.0  21522.0  15458.0  1649.0  13809.0    890.0   \n",
       "\n",
       "   yparent_u18  yparent_18to24  ypchild       state  population  per_capita  \\\n",
       "0          0.0            22.0     39.0      Alaska    739795.0    2.493934   \n",
       "1          6.0            23.0     39.0     Alabama   4874747.0    0.778092   \n",
       "2          0.0            10.0     13.0    Arkansas   3004279.0    0.821162   \n",
       "3          0.0            81.0    112.0     Arizona   7016270.0    1.275179   \n",
       "4         16.0           874.0   1058.0  California  39536653.0    3.396292   \n",
       "\n",
       "   individual_rent  family_rent  unemployment  \n",
       "0       878.625000  1642.000000           7.2  \n",
       "1       625.791667  1027.611111           4.4  \n",
       "2       544.416667   942.305556           3.7  \n",
       "3       744.416667  1399.694444           4.9  \n",
       "4      1308.875000  2402.277778           4.8  "
      ]
     },
     "execution_count": 23,
     "metadata": {},
     "output_type": "execute_result"
    }
   ],
   "source": [
    "df = pd.merge(left=df, right=work_df, how='left', on=['state', 'year'])\n",
    "df.head()"
   ]
  },
  {
   "cell_type": "code",
   "execution_count": 24,
   "metadata": {},
   "outputs": [
    {
     "name": "stdout",
     "output_type": "stream",
     "text": [
      "<class 'pandas.core.frame.DataFrame'>\n",
      "Int64Index: 561 entries, 0 to 560\n",
      "Data columns (total 17 columns):\n",
      "year               561 non-null int64\n",
      "total              561 non-null float64\n",
      "individual         561 non-null float64\n",
      "family             561 non-null float64\n",
      "youth              153 non-null float64\n",
      "child              153 non-null float64\n",
      "yadult             153 non-null float64\n",
      "yparent            153 non-null float64\n",
      "yparent_u18        153 non-null float64\n",
      "yparent_18to24     153 non-null float64\n",
      "ypchild            153 non-null float64\n",
      "state              561 non-null object\n",
      "population         550 non-null float64\n",
      "per_capita         550 non-null float64\n",
      "individual_rent    200 non-null float64\n",
      "family_rent        200 non-null float64\n",
      "unemployment       550 non-null float64\n",
      "dtypes: float64(15), int64(1), object(1)\n",
      "memory usage: 78.9+ KB\n"
     ]
    }
   ],
   "source": [
    "df.info()"
   ]
  },
  {
   "cell_type": "code",
   "execution_count": null,
   "metadata": {},
   "outputs": [],
   "source": []
  }
 ],
 "metadata": {
  "kernelspec": {
   "display_name": "Python [conda env:dand]",
   "language": "python",
   "name": "conda-env-dand-py"
  },
  "language_info": {
   "codemirror_mode": {
    "name": "ipython",
    "version": 3
   },
   "file_extension": ".py",
   "mimetype": "text/x-python",
   "name": "python",
   "nbconvert_exporter": "python",
   "pygments_lexer": "ipython3",
   "version": "3.6.5"
  }
 },
 "nbformat": 4,
 "nbformat_minor": 2
}
