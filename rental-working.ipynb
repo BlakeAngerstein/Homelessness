{
 "cells": [
  {
   "cell_type": "code",
   "execution_count": 1,
   "metadata": {},
   "outputs": [],
   "source": [
    "import pandas as pd\n",
    "import numpy as np\n",
    "import matplotlib.pyplot as plt\n",
    "import seaborn as sns\n",
    "%matplotlib inline"
   ]
  },
  {
   "cell_type": "code",
   "execution_count": 2,
   "metadata": {},
   "outputs": [
    {
     "data": {
      "text/html": [
       "<div>\n",
       "<style scoped>\n",
       "    .dataframe tbody tr th:only-of-type {\n",
       "        vertical-align: middle;\n",
       "    }\n",
       "\n",
       "    .dataframe tbody tr th {\n",
       "        vertical-align: top;\n",
       "    }\n",
       "\n",
       "    .dataframe thead th {\n",
       "        text-align: right;\n",
       "    }\n",
       "</style>\n",
       "<table border=\"1\" class=\"dataframe\">\n",
       "  <thead>\n",
       "    <tr style=\"text-align: right;\">\n",
       "      <th></th>\n",
       "      <th>Location</th>\n",
       "      <th>Location_Type</th>\n",
       "      <th>Bedroom_Size</th>\n",
       "      <th>Price_2014_01</th>\n",
       "      <th>Price_2014_02</th>\n",
       "      <th>Price_2014_03</th>\n",
       "      <th>Price_2014_04</th>\n",
       "      <th>Price_2014_05</th>\n",
       "      <th>Price_2014_06</th>\n",
       "      <th>Price_2014_07</th>\n",
       "      <th>...</th>\n",
       "      <th>Price_2017_09</th>\n",
       "      <th>Price_2017_10</th>\n",
       "      <th>Price_2017_11</th>\n",
       "      <th>Price_2017_12</th>\n",
       "      <th>Price_2018_01</th>\n",
       "      <th>Price_2018_02</th>\n",
       "      <th>Price_2018_03</th>\n",
       "      <th>Price_2018_04</th>\n",
       "      <th>Price_2018_05</th>\n",
       "      <th>Price_2018_06</th>\n",
       "    </tr>\n",
       "  </thead>\n",
       "  <tbody>\n",
       "    <tr>\n",
       "      <th>0</th>\n",
       "      <td>Alabama</td>\n",
       "      <td>State</td>\n",
       "      <td>Studio</td>\n",
       "      <td>573</td>\n",
       "      <td>573</td>\n",
       "      <td>574</td>\n",
       "      <td>574</td>\n",
       "      <td>575</td>\n",
       "      <td>576</td>\n",
       "      <td>578.0</td>\n",
       "      <td>...</td>\n",
       "      <td>602</td>\n",
       "      <td>602</td>\n",
       "      <td>602</td>\n",
       "      <td>601</td>\n",
       "      <td>600</td>\n",
       "      <td>597</td>\n",
       "      <td>598</td>\n",
       "      <td>600</td>\n",
       "      <td>604</td>\n",
       "      <td>608</td>\n",
       "    </tr>\n",
       "    <tr>\n",
       "      <th>1</th>\n",
       "      <td>Alabama</td>\n",
       "      <td>State</td>\n",
       "      <td>1br</td>\n",
       "      <td>624</td>\n",
       "      <td>624</td>\n",
       "      <td>625</td>\n",
       "      <td>625</td>\n",
       "      <td>626</td>\n",
       "      <td>627</td>\n",
       "      <td>629.0</td>\n",
       "      <td>...</td>\n",
       "      <td>656</td>\n",
       "      <td>655</td>\n",
       "      <td>655</td>\n",
       "      <td>655</td>\n",
       "      <td>653</td>\n",
       "      <td>650</td>\n",
       "      <td>650</td>\n",
       "      <td>653</td>\n",
       "      <td>658</td>\n",
       "      <td>662</td>\n",
       "    </tr>\n",
       "    <tr>\n",
       "      <th>2</th>\n",
       "      <td>Alabama</td>\n",
       "      <td>State</td>\n",
       "      <td>2br</td>\n",
       "      <td>758</td>\n",
       "      <td>758</td>\n",
       "      <td>759</td>\n",
       "      <td>759</td>\n",
       "      <td>760</td>\n",
       "      <td>762</td>\n",
       "      <td>765.0</td>\n",
       "      <td>...</td>\n",
       "      <td>797</td>\n",
       "      <td>795</td>\n",
       "      <td>796</td>\n",
       "      <td>795</td>\n",
       "      <td>794</td>\n",
       "      <td>790</td>\n",
       "      <td>790</td>\n",
       "      <td>793</td>\n",
       "      <td>799</td>\n",
       "      <td>804</td>\n",
       "    </tr>\n",
       "    <tr>\n",
       "      <th>3</th>\n",
       "      <td>Alabama</td>\n",
       "      <td>State</td>\n",
       "      <td>3br</td>\n",
       "      <td>1013</td>\n",
       "      <td>1013</td>\n",
       "      <td>1014</td>\n",
       "      <td>1015</td>\n",
       "      <td>1016</td>\n",
       "      <td>1018</td>\n",
       "      <td>1022.0</td>\n",
       "      <td>...</td>\n",
       "      <td>1065</td>\n",
       "      <td>1063</td>\n",
       "      <td>1063</td>\n",
       "      <td>1063</td>\n",
       "      <td>1061</td>\n",
       "      <td>1055</td>\n",
       "      <td>1056</td>\n",
       "      <td>1060</td>\n",
       "      <td>1068</td>\n",
       "      <td>1074</td>\n",
       "    </tr>\n",
       "    <tr>\n",
       "      <th>4</th>\n",
       "      <td>Alabama</td>\n",
       "      <td>State</td>\n",
       "      <td>4br</td>\n",
       "      <td>1178</td>\n",
       "      <td>1178</td>\n",
       "      <td>1179</td>\n",
       "      <td>1180</td>\n",
       "      <td>1182</td>\n",
       "      <td>1184</td>\n",
       "      <td>1188.0</td>\n",
       "      <td>...</td>\n",
       "      <td>1238</td>\n",
       "      <td>1236</td>\n",
       "      <td>1237</td>\n",
       "      <td>1236</td>\n",
       "      <td>1234</td>\n",
       "      <td>1228</td>\n",
       "      <td>1228</td>\n",
       "      <td>1233</td>\n",
       "      <td>1242</td>\n",
       "      <td>1250</td>\n",
       "    </tr>\n",
       "  </tbody>\n",
       "</table>\n",
       "<p>5 rows × 57 columns</p>\n",
       "</div>"
      ],
      "text/plain": [
       "  Location Location_Type Bedroom_Size  Price_2014_01  Price_2014_02  \\\n",
       "0  Alabama         State       Studio            573            573   \n",
       "1  Alabama         State          1br            624            624   \n",
       "2  Alabama         State          2br            758            758   \n",
       "3  Alabama         State          3br           1013           1013   \n",
       "4  Alabama         State          4br           1178           1178   \n",
       "\n",
       "   Price_2014_03  Price_2014_04  Price_2014_05  Price_2014_06  Price_2014_07  \\\n",
       "0            574            574            575            576          578.0   \n",
       "1            625            625            626            627          629.0   \n",
       "2            759            759            760            762          765.0   \n",
       "3           1014           1015           1016           1018         1022.0   \n",
       "4           1179           1180           1182           1184         1188.0   \n",
       "\n",
       "       ...        Price_2017_09  Price_2017_10  Price_2017_11  Price_2017_12  \\\n",
       "0      ...                  602            602            602            601   \n",
       "1      ...                  656            655            655            655   \n",
       "2      ...                  797            795            796            795   \n",
       "3      ...                 1065           1063           1063           1063   \n",
       "4      ...                 1238           1236           1237           1236   \n",
       "\n",
       "   Price_2018_01  Price_2018_02  Price_2018_03  Price_2018_04  Price_2018_05  \\\n",
       "0            600            597            598            600            604   \n",
       "1            653            650            650            653            658   \n",
       "2            794            790            790            793            799   \n",
       "3           1061           1055           1056           1060           1068   \n",
       "4           1234           1228           1228           1233           1242   \n",
       "\n",
       "   Price_2018_06  \n",
       "0            608  \n",
       "1            662  \n",
       "2            804  \n",
       "3           1074  \n",
       "4           1250  \n",
       "\n",
       "[5 rows x 57 columns]"
      ]
     },
     "execution_count": 2,
     "metadata": {},
     "output_type": "execute_result"
    }
   ],
   "source": [
    "rental = pd.read_csv('resources/data/Apartment-List-Rent-Data-State_2018-6.csv')\n",
    "rental.head()"
   ]
  },
  {
   "cell_type": "markdown",
   "metadata": {},
   "source": [
    "## Data Wrangling"
   ]
  },
  {
   "cell_type": "markdown",
   "metadata": {},
   "source": [
    "### Assess "
   ]
  },
  {
   "cell_type": "code",
   "execution_count": 3,
   "metadata": {},
   "outputs": [
    {
     "name": "stdout",
     "output_type": "stream",
     "text": [
      "<class 'pandas.core.frame.DataFrame'>\n",
      "RangeIndex: 255 entries, 0 to 254\n",
      "Data columns (total 57 columns):\n",
      "Location         255 non-null object\n",
      "Location_Type    255 non-null object\n",
      "Bedroom_Size     255 non-null object\n",
      "Price_2014_01    255 non-null int64\n",
      "Price_2014_02    255 non-null int64\n",
      "Price_2014_03    255 non-null int64\n",
      "Price_2014_04    255 non-null int64\n",
      "Price_2014_05    255 non-null int64\n",
      "Price_2014_06    255 non-null int64\n",
      "Price_2014_07    250 non-null float64\n",
      "Price_2014_08    250 non-null float64\n",
      "Price_2014_09    250 non-null float64\n",
      "Price_2014_10    250 non-null float64\n",
      "Price_2014_11    250 non-null float64\n",
      "Price_2014_12    250 non-null float64\n",
      "Price_2015_01    250 non-null float64\n",
      "Price_2015_02    250 non-null float64\n",
      "Price_2015_03    250 non-null float64\n",
      "Price_2015_04    250 non-null float64\n",
      "Price_2015_05    250 non-null float64\n",
      "Price_2015_06    250 non-null float64\n",
      "Price_2015_07    250 non-null float64\n",
      "Price_2015_08    255 non-null int64\n",
      "Price_2015_09    255 non-null int64\n",
      "Price_2015_10    250 non-null float64\n",
      "Price_2015_11    250 non-null float64\n",
      "Price_2015_12    250 non-null float64\n",
      "Price_2016_01    250 non-null float64\n",
      "Price_2016_02    255 non-null int64\n",
      "Price_2016_03    255 non-null int64\n",
      "Price_2016_04    255 non-null int64\n",
      "Price_2016_05    255 non-null int64\n",
      "Price_2016_06    255 non-null int64\n",
      "Price_2016_07    255 non-null int64\n",
      "Price_2016_08    255 non-null int64\n",
      "Price_2016_09    255 non-null int64\n",
      "Price_2016_10    255 non-null int64\n",
      "Price_2016_11    255 non-null int64\n",
      "Price_2016_12    255 non-null int64\n",
      "Price_2017_01    255 non-null int64\n",
      "Price_2017_02    255 non-null int64\n",
      "Price_2017_03    255 non-null int64\n",
      "Price_2017_04    255 non-null int64\n",
      "Price_2017_05    255 non-null int64\n",
      "Price_2017_06    255 non-null int64\n",
      "Price_2017_07    255 non-null int64\n",
      "Price_2017_08    255 non-null int64\n",
      "Price_2017_09    255 non-null int64\n",
      "Price_2017_10    255 non-null int64\n",
      "Price_2017_11    255 non-null int64\n",
      "Price_2017_12    255 non-null int64\n",
      "Price_2018_01    255 non-null int64\n",
      "Price_2018_02    255 non-null int64\n",
      "Price_2018_03    255 non-null int64\n",
      "Price_2018_04    255 non-null int64\n",
      "Price_2018_05    255 non-null int64\n",
      "Price_2018_06    255 non-null int64\n",
      "dtypes: float64(17), int64(37), object(3)\n",
      "memory usage: 113.6+ KB\n"
     ]
    }
   ],
   "source": [
    "rental.info()"
   ]
  },
  {
   "cell_type": "markdown",
   "metadata": {},
   "source": [
    "#### Findings\n",
    " - Location_type is a redundant column\n",
    " - Year and month are wide data instead of long\n",
    " - Only data to the end of 2017 is needed\n",
    " - Data is unavailable for pre-2014 (only four year)"
   ]
  },
  {
   "cell_type": "markdown",
   "metadata": {},
   "source": [
    "### Clean"
   ]
  },
  {
   "cell_type": "code",
   "execution_count": 22,
   "metadata": {},
   "outputs": [],
   "source": [
    "rental_copy = rental.copy()"
   ]
  },
  {
   "cell_type": "markdown",
   "metadata": {},
   "source": [
    "Drop redundant columns "
   ]
  },
  {
   "cell_type": "code",
   "execution_count": 23,
   "metadata": {},
   "outputs": [
    {
     "data": {
      "text/html": [
       "<div>\n",
       "<style scoped>\n",
       "    .dataframe tbody tr th:only-of-type {\n",
       "        vertical-align: middle;\n",
       "    }\n",
       "\n",
       "    .dataframe tbody tr th {\n",
       "        vertical-align: top;\n",
       "    }\n",
       "\n",
       "    .dataframe thead th {\n",
       "        text-align: right;\n",
       "    }\n",
       "</style>\n",
       "<table border=\"1\" class=\"dataframe\">\n",
       "  <thead>\n",
       "    <tr style=\"text-align: right;\">\n",
       "      <th></th>\n",
       "      <th>Location</th>\n",
       "      <th>Bedroom_Size</th>\n",
       "      <th>Price_2014_01</th>\n",
       "      <th>Price_2014_02</th>\n",
       "      <th>Price_2014_03</th>\n",
       "      <th>Price_2014_04</th>\n",
       "      <th>Price_2014_05</th>\n",
       "      <th>Price_2014_06</th>\n",
       "      <th>Price_2014_07</th>\n",
       "      <th>Price_2014_08</th>\n",
       "      <th>...</th>\n",
       "      <th>Price_2017_03</th>\n",
       "      <th>Price_2017_04</th>\n",
       "      <th>Price_2017_05</th>\n",
       "      <th>Price_2017_06</th>\n",
       "      <th>Price_2017_07</th>\n",
       "      <th>Price_2017_08</th>\n",
       "      <th>Price_2017_09</th>\n",
       "      <th>Price_2017_10</th>\n",
       "      <th>Price_2017_11</th>\n",
       "      <th>Price_2017_12</th>\n",
       "    </tr>\n",
       "  </thead>\n",
       "  <tbody>\n",
       "    <tr>\n",
       "      <th>0</th>\n",
       "      <td>Alabama</td>\n",
       "      <td>Studio</td>\n",
       "      <td>573</td>\n",
       "      <td>573</td>\n",
       "      <td>574</td>\n",
       "      <td>574</td>\n",
       "      <td>575</td>\n",
       "      <td>576</td>\n",
       "      <td>578.0</td>\n",
       "      <td>580.0</td>\n",
       "      <td>...</td>\n",
       "      <td>595</td>\n",
       "      <td>597</td>\n",
       "      <td>599</td>\n",
       "      <td>601</td>\n",
       "      <td>603</td>\n",
       "      <td>603</td>\n",
       "      <td>602</td>\n",
       "      <td>602</td>\n",
       "      <td>602</td>\n",
       "      <td>601</td>\n",
       "    </tr>\n",
       "    <tr>\n",
       "      <th>1</th>\n",
       "      <td>Alabama</td>\n",
       "      <td>1br</td>\n",
       "      <td>624</td>\n",
       "      <td>624</td>\n",
       "      <td>625</td>\n",
       "      <td>625</td>\n",
       "      <td>626</td>\n",
       "      <td>627</td>\n",
       "      <td>629.0</td>\n",
       "      <td>631.0</td>\n",
       "      <td>...</td>\n",
       "      <td>647</td>\n",
       "      <td>650</td>\n",
       "      <td>652</td>\n",
       "      <td>655</td>\n",
       "      <td>656</td>\n",
       "      <td>656</td>\n",
       "      <td>656</td>\n",
       "      <td>655</td>\n",
       "      <td>655</td>\n",
       "      <td>655</td>\n",
       "    </tr>\n",
       "    <tr>\n",
       "      <th>2</th>\n",
       "      <td>Alabama</td>\n",
       "      <td>2br</td>\n",
       "      <td>758</td>\n",
       "      <td>758</td>\n",
       "      <td>759</td>\n",
       "      <td>759</td>\n",
       "      <td>760</td>\n",
       "      <td>762</td>\n",
       "      <td>765.0</td>\n",
       "      <td>766.0</td>\n",
       "      <td>...</td>\n",
       "      <td>787</td>\n",
       "      <td>789</td>\n",
       "      <td>792</td>\n",
       "      <td>795</td>\n",
       "      <td>797</td>\n",
       "      <td>797</td>\n",
       "      <td>797</td>\n",
       "      <td>795</td>\n",
       "      <td>796</td>\n",
       "      <td>795</td>\n",
       "    </tr>\n",
       "    <tr>\n",
       "      <th>3</th>\n",
       "      <td>Alabama</td>\n",
       "      <td>3br</td>\n",
       "      <td>1013</td>\n",
       "      <td>1013</td>\n",
       "      <td>1014</td>\n",
       "      <td>1015</td>\n",
       "      <td>1016</td>\n",
       "      <td>1018</td>\n",
       "      <td>1022.0</td>\n",
       "      <td>1024.0</td>\n",
       "      <td>...</td>\n",
       "      <td>1051</td>\n",
       "      <td>1055</td>\n",
       "      <td>1058</td>\n",
       "      <td>1063</td>\n",
       "      <td>1065</td>\n",
       "      <td>1065</td>\n",
       "      <td>1065</td>\n",
       "      <td>1063</td>\n",
       "      <td>1063</td>\n",
       "      <td>1063</td>\n",
       "    </tr>\n",
       "    <tr>\n",
       "      <th>4</th>\n",
       "      <td>Alabama</td>\n",
       "      <td>4br</td>\n",
       "      <td>1178</td>\n",
       "      <td>1178</td>\n",
       "      <td>1179</td>\n",
       "      <td>1180</td>\n",
       "      <td>1182</td>\n",
       "      <td>1184</td>\n",
       "      <td>1188.0</td>\n",
       "      <td>1191.0</td>\n",
       "      <td>...</td>\n",
       "      <td>1222</td>\n",
       "      <td>1227</td>\n",
       "      <td>1231</td>\n",
       "      <td>1236</td>\n",
       "      <td>1239</td>\n",
       "      <td>1239</td>\n",
       "      <td>1238</td>\n",
       "      <td>1236</td>\n",
       "      <td>1237</td>\n",
       "      <td>1236</td>\n",
       "    </tr>\n",
       "  </tbody>\n",
       "</table>\n",
       "<p>5 rows × 50 columns</p>\n",
       "</div>"
      ],
      "text/plain": [
       "  Location Bedroom_Size  Price_2014_01  Price_2014_02  Price_2014_03  \\\n",
       "0  Alabama       Studio            573            573            574   \n",
       "1  Alabama          1br            624            624            625   \n",
       "2  Alabama          2br            758            758            759   \n",
       "3  Alabama          3br           1013           1013           1014   \n",
       "4  Alabama          4br           1178           1178           1179   \n",
       "\n",
       "   Price_2014_04  Price_2014_05  Price_2014_06  Price_2014_07  Price_2014_08  \\\n",
       "0            574            575            576          578.0          580.0   \n",
       "1            625            626            627          629.0          631.0   \n",
       "2            759            760            762          765.0          766.0   \n",
       "3           1015           1016           1018         1022.0         1024.0   \n",
       "4           1180           1182           1184         1188.0         1191.0   \n",
       "\n",
       "       ...        Price_2017_03  Price_2017_04  Price_2017_05  Price_2017_06  \\\n",
       "0      ...                  595            597            599            601   \n",
       "1      ...                  647            650            652            655   \n",
       "2      ...                  787            789            792            795   \n",
       "3      ...                 1051           1055           1058           1063   \n",
       "4      ...                 1222           1227           1231           1236   \n",
       "\n",
       "   Price_2017_07  Price_2017_08  Price_2017_09  Price_2017_10  Price_2017_11  \\\n",
       "0            603            603            602            602            602   \n",
       "1            656            656            656            655            655   \n",
       "2            797            797            797            795            796   \n",
       "3           1065           1065           1065           1063           1063   \n",
       "4           1239           1239           1238           1236           1237   \n",
       "\n",
       "   Price_2017_12  \n",
       "0            601  \n",
       "1            655  \n",
       "2            795  \n",
       "3           1063  \n",
       "4           1236  \n",
       "\n",
       "[5 rows x 50 columns]"
      ]
     },
     "execution_count": 23,
     "metadata": {},
     "output_type": "execute_result"
    }
   ],
   "source": [
    "rental_copy.drop(['Location_Type', \n",
    "                  'Price_2018_01', \n",
    "                  'Price_2018_02', \n",
    "                  'Price_2018_03', \n",
    "                  'Price_2018_04', \n",
    "                  'Price_2018_05', \n",
    "                  'Price_2018_06'], \n",
    "                 axis=1, inplace=True)\n",
    "rental_copy.head()"
   ]
  },
  {
   "cell_type": "markdown",
   "metadata": {},
   "source": [
    "Use pd.wide_to_long to transform month info to long"
   ]
  },
  {
   "cell_type": "code",
   "execution_count": 24,
   "metadata": {},
   "outputs": [],
   "source": [
    "rental_copy = pd.wide_to_long(rental_copy, \n",
    "                              stubnames=['Price_2014', 'Price_2015', 'Price_2016', 'Price_2017'],\n",
    "                              i=['Location', 'Bedroom_Size'],\n",
    "                              j='month', \n",
    "                              sep='_').reset_index()"
   ]
  },
  {
   "cell_type": "code",
   "execution_count": 25,
   "metadata": {},
   "outputs": [
    {
     "data": {
      "text/html": [
       "<div>\n",
       "<style scoped>\n",
       "    .dataframe tbody tr th:only-of-type {\n",
       "        vertical-align: middle;\n",
       "    }\n",
       "\n",
       "    .dataframe tbody tr th {\n",
       "        vertical-align: top;\n",
       "    }\n",
       "\n",
       "    .dataframe thead th {\n",
       "        text-align: right;\n",
       "    }\n",
       "</style>\n",
       "<table border=\"1\" class=\"dataframe\">\n",
       "  <thead>\n",
       "    <tr style=\"text-align: right;\">\n",
       "      <th></th>\n",
       "      <th>Location</th>\n",
       "      <th>Bedroom_Size</th>\n",
       "      <th>month</th>\n",
       "      <th>Price_2014</th>\n",
       "      <th>Price_2015</th>\n",
       "      <th>Price_2016</th>\n",
       "      <th>Price_2017</th>\n",
       "    </tr>\n",
       "  </thead>\n",
       "  <tbody>\n",
       "    <tr>\n",
       "      <th>0</th>\n",
       "      <td>Alabama</td>\n",
       "      <td>Studio</td>\n",
       "      <td>01</td>\n",
       "      <td>573.0</td>\n",
       "      <td>580.0</td>\n",
       "      <td>580.0</td>\n",
       "      <td>592</td>\n",
       "    </tr>\n",
       "    <tr>\n",
       "      <th>1</th>\n",
       "      <td>Alabama</td>\n",
       "      <td>Studio</td>\n",
       "      <td>02</td>\n",
       "      <td>573.0</td>\n",
       "      <td>580.0</td>\n",
       "      <td>578.0</td>\n",
       "      <td>594</td>\n",
       "    </tr>\n",
       "    <tr>\n",
       "      <th>2</th>\n",
       "      <td>Alabama</td>\n",
       "      <td>Studio</td>\n",
       "      <td>03</td>\n",
       "      <td>574.0</td>\n",
       "      <td>580.0</td>\n",
       "      <td>576.0</td>\n",
       "      <td>595</td>\n",
       "    </tr>\n",
       "    <tr>\n",
       "      <th>3</th>\n",
       "      <td>Alabama</td>\n",
       "      <td>Studio</td>\n",
       "      <td>04</td>\n",
       "      <td>574.0</td>\n",
       "      <td>581.0</td>\n",
       "      <td>580.0</td>\n",
       "      <td>597</td>\n",
       "    </tr>\n",
       "    <tr>\n",
       "      <th>4</th>\n",
       "      <td>Alabama</td>\n",
       "      <td>Studio</td>\n",
       "      <td>05</td>\n",
       "      <td>575.0</td>\n",
       "      <td>582.0</td>\n",
       "      <td>583.0</td>\n",
       "      <td>599</td>\n",
       "    </tr>\n",
       "  </tbody>\n",
       "</table>\n",
       "</div>"
      ],
      "text/plain": [
       "  Location Bedroom_Size month  Price_2014  Price_2015  Price_2016  Price_2017\n",
       "0  Alabama       Studio    01       573.0       580.0       580.0         592\n",
       "1  Alabama       Studio    02       573.0       580.0       578.0         594\n",
       "2  Alabama       Studio    03       574.0       580.0       576.0         595\n",
       "3  Alabama       Studio    04       574.0       581.0       580.0         597\n",
       "4  Alabama       Studio    05       575.0       582.0       583.0         599"
      ]
     },
     "execution_count": 25,
     "metadata": {},
     "output_type": "execute_result"
    }
   ],
   "source": [
    "rental_copy.head()"
   ]
  },
  {
   "cell_type": "code",
   "execution_count": 26,
   "metadata": {},
   "outputs": [
    {
     "data": {
      "text/plain": [
       "(3060, 7)"
      ]
     },
     "execution_count": 26,
     "metadata": {},
     "output_type": "execute_result"
    }
   ],
   "source": [
    "rental_copy.shape"
   ]
  },
  {
   "cell_type": "markdown",
   "metadata": {},
   "source": [
    "The number of rows should have multiplied by 12. This is correct. "
   ]
  },
  {
   "cell_type": "code",
   "execution_count": 28,
   "metadata": {},
   "outputs": [
    {
     "data": {
      "text/plain": [
       "0"
      ]
     },
     "execution_count": 28,
     "metadata": {},
     "output_type": "execute_result"
    }
   ],
   "source": [
    "# Double check for duplicates\n",
    "rental_copy.duplicated().sum()"
   ]
  },
  {
   "cell_type": "markdown",
   "metadata": {},
   "source": [
    "Use pd.wide_to_long to transform year info to long"
   ]
  },
  {
   "cell_type": "code",
   "execution_count": 29,
   "metadata": {},
   "outputs": [],
   "source": [
    "rental_copy = pd.wide_to_long(rental_copy, stubnames='Price', i=['Location', 'Bedroom_Size', 'month'], j='year', sep='_')\\\n",
    "    .reset_index()"
   ]
  },
  {
   "cell_type": "code",
   "execution_count": 30,
   "metadata": {},
   "outputs": [
    {
     "data": {
      "text/html": [
       "<div>\n",
       "<style scoped>\n",
       "    .dataframe tbody tr th:only-of-type {\n",
       "        vertical-align: middle;\n",
       "    }\n",
       "\n",
       "    .dataframe tbody tr th {\n",
       "        vertical-align: top;\n",
       "    }\n",
       "\n",
       "    .dataframe thead th {\n",
       "        text-align: right;\n",
       "    }\n",
       "</style>\n",
       "<table border=\"1\" class=\"dataframe\">\n",
       "  <thead>\n",
       "    <tr style=\"text-align: right;\">\n",
       "      <th></th>\n",
       "      <th>Location</th>\n",
       "      <th>Bedroom_Size</th>\n",
       "      <th>month</th>\n",
       "      <th>year</th>\n",
       "      <th>Price</th>\n",
       "    </tr>\n",
       "  </thead>\n",
       "  <tbody>\n",
       "    <tr>\n",
       "      <th>0</th>\n",
       "      <td>Alabama</td>\n",
       "      <td>Studio</td>\n",
       "      <td>01</td>\n",
       "      <td>2014</td>\n",
       "      <td>573.0</td>\n",
       "    </tr>\n",
       "    <tr>\n",
       "      <th>1</th>\n",
       "      <td>Alabama</td>\n",
       "      <td>Studio</td>\n",
       "      <td>01</td>\n",
       "      <td>2015</td>\n",
       "      <td>580.0</td>\n",
       "    </tr>\n",
       "    <tr>\n",
       "      <th>2</th>\n",
       "      <td>Alabama</td>\n",
       "      <td>Studio</td>\n",
       "      <td>01</td>\n",
       "      <td>2016</td>\n",
       "      <td>580.0</td>\n",
       "    </tr>\n",
       "    <tr>\n",
       "      <th>3</th>\n",
       "      <td>Alabama</td>\n",
       "      <td>Studio</td>\n",
       "      <td>01</td>\n",
       "      <td>2017</td>\n",
       "      <td>592.0</td>\n",
       "    </tr>\n",
       "    <tr>\n",
       "      <th>4</th>\n",
       "      <td>Alabama</td>\n",
       "      <td>Studio</td>\n",
       "      <td>02</td>\n",
       "      <td>2014</td>\n",
       "      <td>573.0</td>\n",
       "    </tr>\n",
       "  </tbody>\n",
       "</table>\n",
       "</div>"
      ],
      "text/plain": [
       "  Location Bedroom_Size month  year  Price\n",
       "0  Alabama       Studio    01  2014  573.0\n",
       "1  Alabama       Studio    01  2015  580.0\n",
       "2  Alabama       Studio    01  2016  580.0\n",
       "3  Alabama       Studio    01  2017  592.0\n",
       "4  Alabama       Studio    02  2014  573.0"
      ]
     },
     "execution_count": 30,
     "metadata": {},
     "output_type": "execute_result"
    }
   ],
   "source": [
    "rental_copy.head()"
   ]
  },
  {
   "cell_type": "code",
   "execution_count": 31,
   "metadata": {},
   "outputs": [
    {
     "data": {
      "text/plain": [
       "(12240, 5)"
      ]
     },
     "execution_count": 31,
     "metadata": {},
     "output_type": "execute_result"
    }
   ],
   "source": [
    "rental_copy.shape"
   ]
  },
  {
   "cell_type": "code",
   "execution_count": 33,
   "metadata": {},
   "outputs": [
    {
     "data": {
      "text/plain": [
       "0"
      ]
     },
     "execution_count": 33,
     "metadata": {},
     "output_type": "execute_result"
    }
   ],
   "source": [
    "rental_copy.iloc[:, :-1].duplicated().sum()"
   ]
  },
  {
   "cell_type": "markdown",
   "metadata": {},
   "source": [
    "Change column headers to lower case"
   ]
  },
  {
   "cell_type": "code",
   "execution_count": 47,
   "metadata": {},
   "outputs": [],
   "source": [
    "cols = ['location', 'bedroom_size', 'month', 'year', 'price']\n",
    "rental_copy.columns = cols"
   ]
  },
  {
   "cell_type": "code",
   "execution_count": 11,
   "metadata": {},
   "outputs": [
    {
     "data": {
      "text/plain": [
       "Index(['location', 'bedroom_size', 'month', 'year', 'price'], dtype='object')"
      ]
     },
     "execution_count": 11,
     "metadata": {},
     "output_type": "execute_result"
    }
   ],
   "source": [
    "rental_copy.columns"
   ]
  },
  {
   "cell_type": "markdown",
   "metadata": {},
   "source": [
    "Check data type of new columns"
   ]
  },
  {
   "cell_type": "code",
   "execution_count": 12,
   "metadata": {},
   "outputs": [
    {
     "name": "stdout",
     "output_type": "stream",
     "text": [
      "<class 'pandas.core.frame.DataFrame'>\n",
      "RangeIndex: 12240 entries, 0 to 12239\n",
      "Data columns (total 5 columns):\n",
      "location        12240 non-null object\n",
      "bedroom_size    12240 non-null object\n",
      "month           12240 non-null object\n",
      "year            12240 non-null object\n",
      "price           12155 non-null float64\n",
      "dtypes: float64(1), object(4)\n",
      "memory usage: 478.2+ KB\n"
     ]
    }
   ],
   "source": [
    "rental_copy.info()"
   ]
  },
  {
   "cell_type": "markdown",
   "metadata": {},
   "source": [
    "Because month and year won't be used for calculations, ok with leaving them as is."
   ]
  },
  {
   "cell_type": "code",
   "execution_count": 13,
   "metadata": {},
   "outputs": [],
   "source": [
    "rental_copy.to_csv('datasets/rent_by_type_1417.csv', index=False)"
   ]
  },
  {
   "cell_type": "markdown",
   "metadata": {},
   "source": [
    "### Create groupings by year and single and family housing types"
   ]
  },
  {
   "cell_type": "markdown",
   "metadata": {},
   "source": [
    "Assumptions: \n",
    "- A single person will typically need a studio or one bedroom\n",
    "- While it is possible that a couple is a family, it is assumed that families will typically need two or more bedrooms"
   ]
  },
  {
   "cell_type": "code",
   "execution_count": 52,
   "metadata": {},
   "outputs": [
    {
     "data": {
      "text/html": [
       "<div>\n",
       "<style scoped>\n",
       "    .dataframe tbody tr th:only-of-type {\n",
       "        vertical-align: middle;\n",
       "    }\n",
       "\n",
       "    .dataframe tbody tr th {\n",
       "        vertical-align: top;\n",
       "    }\n",
       "\n",
       "    .dataframe thead th {\n",
       "        text-align: right;\n",
       "    }\n",
       "</style>\n",
       "<table border=\"1\" class=\"dataframe\">\n",
       "  <thead>\n",
       "    <tr style=\"text-align: right;\">\n",
       "      <th></th>\n",
       "      <th>location</th>\n",
       "      <th>bedroom_size</th>\n",
       "      <th>month</th>\n",
       "      <th>year</th>\n",
       "      <th>price</th>\n",
       "    </tr>\n",
       "  </thead>\n",
       "  <tbody>\n",
       "    <tr>\n",
       "      <th>0</th>\n",
       "      <td>Alabama</td>\n",
       "      <td>Studio</td>\n",
       "      <td>1</td>\n",
       "      <td>2014</td>\n",
       "      <td>573.0</td>\n",
       "    </tr>\n",
       "    <tr>\n",
       "      <th>1</th>\n",
       "      <td>Alabama</td>\n",
       "      <td>Studio</td>\n",
       "      <td>1</td>\n",
       "      <td>2015</td>\n",
       "      <td>580.0</td>\n",
       "    </tr>\n",
       "    <tr>\n",
       "      <th>2</th>\n",
       "      <td>Alabama</td>\n",
       "      <td>Studio</td>\n",
       "      <td>1</td>\n",
       "      <td>2016</td>\n",
       "      <td>580.0</td>\n",
       "    </tr>\n",
       "    <tr>\n",
       "      <th>3</th>\n",
       "      <td>Alabama</td>\n",
       "      <td>Studio</td>\n",
       "      <td>1</td>\n",
       "      <td>2017</td>\n",
       "      <td>592.0</td>\n",
       "    </tr>\n",
       "    <tr>\n",
       "      <th>4</th>\n",
       "      <td>Alabama</td>\n",
       "      <td>Studio</td>\n",
       "      <td>2</td>\n",
       "      <td>2014</td>\n",
       "      <td>573.0</td>\n",
       "    </tr>\n",
       "  </tbody>\n",
       "</table>\n",
       "</div>"
      ],
      "text/plain": [
       "  location bedroom_size  month  year  price\n",
       "0  Alabama       Studio      1  2014  573.0\n",
       "1  Alabama       Studio      1  2015  580.0\n",
       "2  Alabama       Studio      1  2016  580.0\n",
       "3  Alabama       Studio      1  2017  592.0\n",
       "4  Alabama       Studio      2  2014  573.0"
      ]
     },
     "execution_count": 52,
     "metadata": {},
     "output_type": "execute_result"
    }
   ],
   "source": [
    "df = pd.read_csv('datasets/rent_by_type_1417.csv')\n",
    "df.head()"
   ]
  },
  {
   "cell_type": "code",
   "execution_count": 53,
   "metadata": {},
   "outputs": [
    {
     "data": {
      "text/plain": [
       "array(['Studio', '1br', '2br', '3br', '4br'], dtype=object)"
      ]
     },
     "execution_count": 53,
     "metadata": {},
     "output_type": "execute_result"
    }
   ],
   "source": [
    "df.bedroom_size.unique()"
   ]
  },
  {
   "cell_type": "code",
   "execution_count": 61,
   "metadata": {},
   "outputs": [
    {
     "data": {
      "text/html": [
       "<div>\n",
       "<style scoped>\n",
       "    .dataframe tbody tr th:only-of-type {\n",
       "        vertical-align: middle;\n",
       "    }\n",
       "\n",
       "    .dataframe tbody tr th {\n",
       "        vertical-align: top;\n",
       "    }\n",
       "\n",
       "    .dataframe thead th {\n",
       "        text-align: right;\n",
       "    }\n",
       "</style>\n",
       "<table border=\"1\" class=\"dataframe\">\n",
       "  <thead>\n",
       "    <tr style=\"text-align: right;\">\n",
       "      <th></th>\n",
       "      <th>location</th>\n",
       "      <th>bedroom_size</th>\n",
       "      <th>month</th>\n",
       "      <th>year</th>\n",
       "      <th>price</th>\n",
       "    </tr>\n",
       "  </thead>\n",
       "  <tbody>\n",
       "    <tr>\n",
       "      <th>0</th>\n",
       "      <td>Alabama</td>\n",
       "      <td>Studio</td>\n",
       "      <td>1</td>\n",
       "      <td>2014</td>\n",
       "      <td>573.0</td>\n",
       "    </tr>\n",
       "    <tr>\n",
       "      <th>1</th>\n",
       "      <td>Alabama</td>\n",
       "      <td>Studio</td>\n",
       "      <td>1</td>\n",
       "      <td>2015</td>\n",
       "      <td>580.0</td>\n",
       "    </tr>\n",
       "    <tr>\n",
       "      <th>2</th>\n",
       "      <td>Alabama</td>\n",
       "      <td>Studio</td>\n",
       "      <td>1</td>\n",
       "      <td>2016</td>\n",
       "      <td>580.0</td>\n",
       "    </tr>\n",
       "    <tr>\n",
       "      <th>3</th>\n",
       "      <td>Alabama</td>\n",
       "      <td>Studio</td>\n",
       "      <td>1</td>\n",
       "      <td>2017</td>\n",
       "      <td>592.0</td>\n",
       "    </tr>\n",
       "    <tr>\n",
       "      <th>4</th>\n",
       "      <td>Alabama</td>\n",
       "      <td>Studio</td>\n",
       "      <td>2</td>\n",
       "      <td>2014</td>\n",
       "      <td>573.0</td>\n",
       "    </tr>\n",
       "  </tbody>\n",
       "</table>\n",
       "</div>"
      ],
      "text/plain": [
       "  location bedroom_size  month  year  price\n",
       "0  Alabama       Studio      1  2014  573.0\n",
       "1  Alabama       Studio      1  2015  580.0\n",
       "2  Alabama       Studio      1  2016  580.0\n",
       "3  Alabama       Studio      1  2017  592.0\n",
       "4  Alabama       Studio      2  2014  573.0"
      ]
     },
     "execution_count": 61,
     "metadata": {},
     "output_type": "execute_result"
    }
   ],
   "source": [
    "single = df[(df.bedroom_size == 'Studio') | (df.bedroom_size == '1br')]\n",
    "single.head()"
   ]
  },
  {
   "cell_type": "code",
   "execution_count": 64,
   "metadata": {},
   "outputs": [
    {
     "data": {
      "text/html": [
       "<div>\n",
       "<style scoped>\n",
       "    .dataframe tbody tr th:only-of-type {\n",
       "        vertical-align: middle;\n",
       "    }\n",
       "\n",
       "    .dataframe tbody tr th {\n",
       "        vertical-align: top;\n",
       "    }\n",
       "\n",
       "    .dataframe thead th {\n",
       "        text-align: right;\n",
       "    }\n",
       "</style>\n",
       "<table border=\"1\" class=\"dataframe\">\n",
       "  <thead>\n",
       "    <tr style=\"text-align: right;\">\n",
       "      <th></th>\n",
       "      <th>location</th>\n",
       "      <th>year</th>\n",
       "      <th>price</th>\n",
       "    </tr>\n",
       "  </thead>\n",
       "  <tbody>\n",
       "    <tr>\n",
       "      <th>0</th>\n",
       "      <td>Alabama</td>\n",
       "      <td>2014</td>\n",
       "      <td>602.458333</td>\n",
       "    </tr>\n",
       "    <tr>\n",
       "      <th>1</th>\n",
       "      <td>Alabama</td>\n",
       "      <td>2015</td>\n",
       "      <td>605.875000</td>\n",
       "    </tr>\n",
       "    <tr>\n",
       "      <th>2</th>\n",
       "      <td>Alabama</td>\n",
       "      <td>2016</td>\n",
       "      <td>610.833333</td>\n",
       "    </tr>\n",
       "    <tr>\n",
       "      <th>3</th>\n",
       "      <td>Alabama</td>\n",
       "      <td>2017</td>\n",
       "      <td>625.791667</td>\n",
       "    </tr>\n",
       "    <tr>\n",
       "      <th>4</th>\n",
       "      <td>Alaska</td>\n",
       "      <td>2014</td>\n",
       "      <td>912.750000</td>\n",
       "    </tr>\n",
       "  </tbody>\n",
       "</table>\n",
       "</div>"
      ],
      "text/plain": [
       "  location  year       price\n",
       "0  Alabama  2014  602.458333\n",
       "1  Alabama  2015  605.875000\n",
       "2  Alabama  2016  610.833333\n",
       "3  Alabama  2017  625.791667\n",
       "4   Alaska  2014  912.750000"
      ]
     },
     "execution_count": 64,
     "metadata": {},
     "output_type": "execute_result"
    }
   ],
   "source": [
    "single = single.groupby(['location', 'year'])['price'].mean().reset_index()\n",
    "single.head()"
   ]
  },
  {
   "cell_type": "code",
   "execution_count": 65,
   "metadata": {},
   "outputs": [],
   "source": [
    "single.to_csv('single-rent-prices.csv', index=False)"
   ]
  },
  {
   "cell_type": "code",
   "execution_count": 62,
   "metadata": {},
   "outputs": [
    {
     "data": {
      "text/html": [
       "<div>\n",
       "<style scoped>\n",
       "    .dataframe tbody tr th:only-of-type {\n",
       "        vertical-align: middle;\n",
       "    }\n",
       "\n",
       "    .dataframe tbody tr th {\n",
       "        vertical-align: top;\n",
       "    }\n",
       "\n",
       "    .dataframe thead th {\n",
       "        text-align: right;\n",
       "    }\n",
       "</style>\n",
       "<table border=\"1\" class=\"dataframe\">\n",
       "  <thead>\n",
       "    <tr style=\"text-align: right;\">\n",
       "      <th></th>\n",
       "      <th>location</th>\n",
       "      <th>bedroom_size</th>\n",
       "      <th>month</th>\n",
       "      <th>year</th>\n",
       "      <th>price</th>\n",
       "    </tr>\n",
       "  </thead>\n",
       "  <tbody>\n",
       "    <tr>\n",
       "      <th>96</th>\n",
       "      <td>Alabama</td>\n",
       "      <td>2br</td>\n",
       "      <td>1</td>\n",
       "      <td>2014</td>\n",
       "      <td>758.0</td>\n",
       "    </tr>\n",
       "    <tr>\n",
       "      <th>97</th>\n",
       "      <td>Alabama</td>\n",
       "      <td>2br</td>\n",
       "      <td>1</td>\n",
       "      <td>2015</td>\n",
       "      <td>767.0</td>\n",
       "    </tr>\n",
       "    <tr>\n",
       "      <th>98</th>\n",
       "      <td>Alabama</td>\n",
       "      <td>2br</td>\n",
       "      <td>1</td>\n",
       "      <td>2016</td>\n",
       "      <td>767.0</td>\n",
       "    </tr>\n",
       "    <tr>\n",
       "      <th>99</th>\n",
       "      <td>Alabama</td>\n",
       "      <td>2br</td>\n",
       "      <td>1</td>\n",
       "      <td>2017</td>\n",
       "      <td>783.0</td>\n",
       "    </tr>\n",
       "    <tr>\n",
       "      <th>100</th>\n",
       "      <td>Alabama</td>\n",
       "      <td>2br</td>\n",
       "      <td>2</td>\n",
       "      <td>2014</td>\n",
       "      <td>758.0</td>\n",
       "    </tr>\n",
       "  </tbody>\n",
       "</table>\n",
       "</div>"
      ],
      "text/plain": [
       "    location bedroom_size  month  year  price\n",
       "96   Alabama          2br      1  2014  758.0\n",
       "97   Alabama          2br      1  2015  767.0\n",
       "98   Alabama          2br      1  2016  767.0\n",
       "99   Alabama          2br      1  2017  783.0\n",
       "100  Alabama          2br      2  2014  758.0"
      ]
     },
     "execution_count": 62,
     "metadata": {},
     "output_type": "execute_result"
    }
   ],
   "source": [
    "family = df[(df.bedroom_size != 'Studio') & (df.bedroom_size != '1br')]\n",
    "family.head()"
   ]
  },
  {
   "cell_type": "code",
   "execution_count": 66,
   "metadata": {},
   "outputs": [
    {
     "data": {
      "text/html": [
       "<div>\n",
       "<style scoped>\n",
       "    .dataframe tbody tr th:only-of-type {\n",
       "        vertical-align: middle;\n",
       "    }\n",
       "\n",
       "    .dataframe tbody tr th {\n",
       "        vertical-align: top;\n",
       "    }\n",
       "\n",
       "    .dataframe thead th {\n",
       "        text-align: right;\n",
       "    }\n",
       "</style>\n",
       "<table border=\"1\" class=\"dataframe\">\n",
       "  <thead>\n",
       "    <tr style=\"text-align: right;\">\n",
       "      <th></th>\n",
       "      <th>location</th>\n",
       "      <th>year</th>\n",
       "      <th>price</th>\n",
       "    </tr>\n",
       "  </thead>\n",
       "  <tbody>\n",
       "    <tr>\n",
       "      <th>0</th>\n",
       "      <td>Alabama</td>\n",
       "      <td>2014</td>\n",
       "      <td>989.333333</td>\n",
       "    </tr>\n",
       "    <tr>\n",
       "      <th>1</th>\n",
       "      <td>Alabama</td>\n",
       "      <td>2015</td>\n",
       "      <td>995.055556</td>\n",
       "    </tr>\n",
       "    <tr>\n",
       "      <th>2</th>\n",
       "      <td>Alabama</td>\n",
       "      <td>2016</td>\n",
       "      <td>1003.083333</td>\n",
       "    </tr>\n",
       "    <tr>\n",
       "      <th>3</th>\n",
       "      <td>Alabama</td>\n",
       "      <td>2017</td>\n",
       "      <td>1027.611111</td>\n",
       "    </tr>\n",
       "    <tr>\n",
       "      <th>4</th>\n",
       "      <td>Alaska</td>\n",
       "      <td>2014</td>\n",
       "      <td>1705.861111</td>\n",
       "    </tr>\n",
       "  </tbody>\n",
       "</table>\n",
       "</div>"
      ],
      "text/plain": [
       "  location  year        price\n",
       "0  Alabama  2014   989.333333\n",
       "1  Alabama  2015   995.055556\n",
       "2  Alabama  2016  1003.083333\n",
       "3  Alabama  2017  1027.611111\n",
       "4   Alaska  2014  1705.861111"
      ]
     },
     "execution_count": 66,
     "metadata": {},
     "output_type": "execute_result"
    }
   ],
   "source": [
    "family = family.groupby(['location', 'year'])['price'].mean().reset_index()\n",
    "family.head()"
   ]
  },
  {
   "cell_type": "code",
   "execution_count": 67,
   "metadata": {},
   "outputs": [],
   "source": [
    "family.to_csv('family-rent-prices.csv', index=False)"
   ]
  },
  {
   "cell_type": "markdown",
   "metadata": {},
   "source": [
    "### Create change over time dataset"
   ]
  },
  {
   "cell_type": "markdown",
   "metadata": {},
   "source": [
    "Need to recognize month as a number, so strip leading `0` with `.str.lstrip(\"0\")` and convert to int"
   ]
  },
  {
   "cell_type": "code",
   "execution_count": 34,
   "metadata": {},
   "outputs": [],
   "source": [
    "rental_copy.month = rental_copy.month.str.lstrip(\"0\")"
   ]
  },
  {
   "cell_type": "code",
   "execution_count": 35,
   "metadata": {},
   "outputs": [],
   "source": [
    "rental_copy.month = rental_copy.month.astype(int)"
   ]
  },
  {
   "cell_type": "code",
   "execution_count": 36,
   "metadata": {},
   "outputs": [
    {
     "data": {
      "text/plain": [
       "0    1\n",
       "1    1\n",
       "2    1\n",
       "3    1\n",
       "4    2\n",
       "Name: month, dtype: int32"
      ]
     },
     "execution_count": 36,
     "metadata": {},
     "output_type": "execute_result"
    }
   ],
   "source": [
    "rental_copy.month.head()"
   ]
  },
  {
   "cell_type": "code",
   "execution_count": 49,
   "metadata": {},
   "outputs": [
    {
     "data": {
      "text/plain": [
       "array([ 1,  2,  3,  4,  5,  6,  7,  8,  9, 10, 11, 12], dtype=int64)"
      ]
     },
     "execution_count": 49,
     "metadata": {},
     "output_type": "execute_result"
    }
   ],
   "source": [
    "# Check that 10 month exists\n",
    "rental_copy.month.unique()"
   ]
  },
  {
   "cell_type": "markdown",
   "metadata": {},
   "source": [
    "Convert `year` to int in case it is needed"
   ]
  },
  {
   "cell_type": "code",
   "execution_count": 43,
   "metadata": {},
   "outputs": [],
   "source": [
    "rental_copy.year = rental_copy.year.astype(int)"
   ]
  },
  {
   "cell_type": "code",
   "execution_count": 44,
   "metadata": {},
   "outputs": [
    {
     "data": {
      "text/plain": [
       "0    2014\n",
       "1    2015\n",
       "2    2016\n",
       "3    2017\n",
       "4    2014\n",
       "Name: year, dtype: int32"
      ]
     },
     "execution_count": 44,
     "metadata": {},
     "output_type": "execute_result"
    }
   ],
   "source": [
    "rental_copy.year.head()"
   ]
  },
  {
   "cell_type": "markdown",
   "metadata": {},
   "source": [
    "Sort data by year for ease of calculations"
   ]
  },
  {
   "cell_type": "code",
   "execution_count": 45,
   "metadata": {},
   "outputs": [],
   "source": [
    "rental_copy.sort_values(by=['year', 'month'], inplace=True)"
   ]
  },
  {
   "cell_type": "code",
   "execution_count": 48,
   "metadata": {},
   "outputs": [
    {
     "data": {
      "text/html": [
       "<div>\n",
       "<style scoped>\n",
       "    .dataframe tbody tr th:only-of-type {\n",
       "        vertical-align: middle;\n",
       "    }\n",
       "\n",
       "    .dataframe tbody tr th {\n",
       "        vertical-align: top;\n",
       "    }\n",
       "\n",
       "    .dataframe thead th {\n",
       "        text-align: right;\n",
       "    }\n",
       "</style>\n",
       "<table border=\"1\" class=\"dataframe\">\n",
       "  <thead>\n",
       "    <tr style=\"text-align: right;\">\n",
       "      <th></th>\n",
       "      <th>location</th>\n",
       "      <th>bedroom_size</th>\n",
       "      <th>month</th>\n",
       "      <th>year</th>\n",
       "      <th>price</th>\n",
       "    </tr>\n",
       "  </thead>\n",
       "  <tbody>\n",
       "    <tr>\n",
       "      <th>0</th>\n",
       "      <td>Alabama</td>\n",
       "      <td>Studio</td>\n",
       "      <td>1</td>\n",
       "      <td>2014</td>\n",
       "      <td>573.0</td>\n",
       "    </tr>\n",
       "    <tr>\n",
       "      <th>48</th>\n",
       "      <td>Alabama</td>\n",
       "      <td>1br</td>\n",
       "      <td>1</td>\n",
       "      <td>2014</td>\n",
       "      <td>624.0</td>\n",
       "    </tr>\n",
       "    <tr>\n",
       "      <th>96</th>\n",
       "      <td>Alabama</td>\n",
       "      <td>2br</td>\n",
       "      <td>1</td>\n",
       "      <td>2014</td>\n",
       "      <td>758.0</td>\n",
       "    </tr>\n",
       "    <tr>\n",
       "      <th>144</th>\n",
       "      <td>Alabama</td>\n",
       "      <td>3br</td>\n",
       "      <td>1</td>\n",
       "      <td>2014</td>\n",
       "      <td>1013.0</td>\n",
       "    </tr>\n",
       "    <tr>\n",
       "      <th>192</th>\n",
       "      <td>Alabama</td>\n",
       "      <td>4br</td>\n",
       "      <td>1</td>\n",
       "      <td>2014</td>\n",
       "      <td>1178.0</td>\n",
       "    </tr>\n",
       "    <tr>\n",
       "      <th>240</th>\n",
       "      <td>Alaska</td>\n",
       "      <td>Studio</td>\n",
       "      <td>1</td>\n",
       "      <td>2014</td>\n",
       "      <td>841.0</td>\n",
       "    </tr>\n",
       "    <tr>\n",
       "      <th>288</th>\n",
       "      <td>Alaska</td>\n",
       "      <td>1br</td>\n",
       "      <td>1</td>\n",
       "      <td>2014</td>\n",
       "      <td>961.0</td>\n",
       "    </tr>\n",
       "    <tr>\n",
       "      <th>336</th>\n",
       "      <td>Alaska</td>\n",
       "      <td>2br</td>\n",
       "      <td>1</td>\n",
       "      <td>2014</td>\n",
       "      <td>1230.0</td>\n",
       "    </tr>\n",
       "    <tr>\n",
       "      <th>384</th>\n",
       "      <td>Alaska</td>\n",
       "      <td>3br</td>\n",
       "      <td>1</td>\n",
       "      <td>2014</td>\n",
       "      <td>1738.0</td>\n",
       "    </tr>\n",
       "    <tr>\n",
       "      <th>432</th>\n",
       "      <td>Alaska</td>\n",
       "      <td>4br</td>\n",
       "      <td>1</td>\n",
       "      <td>2014</td>\n",
       "      <td>2086.0</td>\n",
       "    </tr>\n",
       "    <tr>\n",
       "      <th>480</th>\n",
       "      <td>Arizona</td>\n",
       "      <td>Studio</td>\n",
       "      <td>1</td>\n",
       "      <td>2014</td>\n",
       "      <td>600.0</td>\n",
       "    </tr>\n",
       "    <tr>\n",
       "      <th>528</th>\n",
       "      <td>Arizona</td>\n",
       "      <td>1br</td>\n",
       "      <td>1</td>\n",
       "      <td>2014</td>\n",
       "      <td>709.0</td>\n",
       "    </tr>\n",
       "    <tr>\n",
       "      <th>576</th>\n",
       "      <td>Arizona</td>\n",
       "      <td>2br</td>\n",
       "      <td>1</td>\n",
       "      <td>2014</td>\n",
       "      <td>896.0</td>\n",
       "    </tr>\n",
       "    <tr>\n",
       "      <th>624</th>\n",
       "      <td>Arizona</td>\n",
       "      <td>3br</td>\n",
       "      <td>1</td>\n",
       "      <td>2014</td>\n",
       "      <td>1295.0</td>\n",
       "    </tr>\n",
       "    <tr>\n",
       "      <th>672</th>\n",
       "      <td>Arizona</td>\n",
       "      <td>4br</td>\n",
       "      <td>1</td>\n",
       "      <td>2014</td>\n",
       "      <td>1503.0</td>\n",
       "    </tr>\n",
       "  </tbody>\n",
       "</table>\n",
       "</div>"
      ],
      "text/plain": [
       "    location bedroom_size  month  year   price\n",
       "0    Alabama       Studio      1  2014   573.0\n",
       "48   Alabama          1br      1  2014   624.0\n",
       "96   Alabama          2br      1  2014   758.0\n",
       "144  Alabama          3br      1  2014  1013.0\n",
       "192  Alabama          4br      1  2014  1178.0\n",
       "240   Alaska       Studio      1  2014   841.0\n",
       "288   Alaska          1br      1  2014   961.0\n",
       "336   Alaska          2br      1  2014  1230.0\n",
       "384   Alaska          3br      1  2014  1738.0\n",
       "432   Alaska          4br      1  2014  2086.0\n",
       "480  Arizona       Studio      1  2014   600.0\n",
       "528  Arizona          1br      1  2014   709.0\n",
       "576  Arizona          2br      1  2014   896.0\n",
       "624  Arizona          3br      1  2014  1295.0\n",
       "672  Arizona          4br      1  2014  1503.0"
      ]
     },
     "execution_count": 48,
     "metadata": {},
     "output_type": "execute_result"
    }
   ],
   "source": [
    "rental_copy.head(15)"
   ]
  },
  {
   "cell_type": "code",
   "execution_count": 51,
   "metadata": {},
   "outputs": [],
   "source": [
    "months = rental_copy.month.unique()\n",
    "states = rental_copy.location.unique()\n",
    "bedroom_sizes = rental_copy.bedroom_size.unique()"
   ]
  },
  {
   "cell_type": "code",
   "execution_count": null,
   "metadata": {},
   "outputs": [],
   "source": []
  }
 ],
 "metadata": {
  "kernelspec": {
   "display_name": "Python [conda env:dand]",
   "language": "python",
   "name": "conda-env-dand-py"
  },
  "language_info": {
   "codemirror_mode": {
    "name": "ipython",
    "version": 3
   },
   "file_extension": ".py",
   "mimetype": "text/x-python",
   "name": "python",
   "nbconvert_exporter": "python",
   "pygments_lexer": "ipython3",
   "version": "3.6.5"
  }
 },
 "nbformat": 4,
 "nbformat_minor": 2
}
